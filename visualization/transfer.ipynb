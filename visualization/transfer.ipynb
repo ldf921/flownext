{
 "cells": [
  {
   "cell_type": "code",
   "execution_count": 1,
   "metadata": {},
   "outputs": [
    {
     "name": "stderr",
     "output_type": "stream",
     "text": [
      "C:\\Users\\v-dinliu\\AppData\\Local\\Continuum\\anaconda3\\envs\\mxnet\\lib\\site-packages\\h5py\\__init__.py:36: FutureWarning: Conversion of the second argument of issubdtype from `float` to `np.floating` is deprecated. In future, it will be treated as `np.float64 == np.dtype(float).type`.\n",
      "  from ._conv import register_converters as _register_converters\n"
     ]
    }
   ],
   "source": [
    "from mxnet import nd\n",
    "from mxnet.gluon.model_zoo import vision\n",
    "import pandas as pd\n",
    "import mxnet as mx\n",
    "import skimage.io\n",
    "import skimage.transform\n",
    "from mxnet import image\n",
    "import os\n",
    "import numpy as np"
   ]
  },
  {
   "cell_type": "code",
   "execution_count": 2,
   "metadata": {},
   "outputs": [],
   "source": [
    "%matplotlib inline\n",
    "import matplotlib.pyplot as plt"
   ]
  },
  {
   "cell_type": "code",
   "execution_count": 3,
   "metadata": {},
   "outputs": [
    {
     "name": "stdout",
     "output_type": "stream",
     "text": [
      "Z:\\v-dinliu\\Flow2D\n"
     ]
    }
   ],
   "source": [
    "cd .."
   ]
  },
  {
   "cell_type": "code",
   "execution_count": 4,
   "metadata": {},
   "outputs": [
    {
     "name": "stdout",
     "output_type": "stream",
     "text": [
      "Wall time: 18 s\n"
     ]
    }
   ],
   "source": [
    "%%time\n",
    "with open('visualization/imagenet_class.txt', 'r') as fi:\n",
    "    buf = fi.read()\n",
    "    class_name = eval(buf)\n",
    "import sys\n",
    "sys.path.append('//msralab/projectdata/ehealth02/v-dinliu/Flow2D')\n",
    "from reader.chairs import binary_reader, trainval\n",
    "trainSet, validationSet = trainval.read('//msralab/ProjectData/ehealth02/v-dinliu/Flow2D/Data/FlyingChairs_release/FlyingChairs_train_val.txt')\n",
    "validationSize = len(validationSet)\n",
    "validationImg1, validationImg2, validationFlow = binary_reader.load(r\"\\\\msralab\\ProjectData\\ScratchSSD\\Users\\v-dinliu\\data\\FlyingChairsBlock\", \"val\")"
   ]
  },
  {
   "cell_type": "code",
   "execution_count": 19,
   "metadata": {},
   "outputs": [],
   "source": [
    "nd.expand_dims?"
   ]
  },
  {
   "cell_type": "code",
   "execution_count": 30,
   "metadata": {},
   "outputs": [],
   "source": [
    "def call_mx_func(func, *args):\n",
    "    nd_args = []\n",
    "    for arg in args:\n",
    "        arg = nd.array(arg)\n",
    "        if arg.ndim == 3:\n",
    "            arg = nd.expand_dims(arg, 0)\n",
    "        if arg.shape[3] <= 3:\n",
    "            arg = nd.transpose(arg, (0, 3, 1, 2))\n",
    "        arg = nd_args.append(arg)\n",
    "    nd_ret = func(*nd_args)\n",
    "    if not isinstance(nd_ret, nd.NDArray):\n",
    "        nd_ret = nd_ret[0]\n",
    "    ret = nd.transpose(nd_ret, (0, 2, 3, 1)).asnumpy()\n",
    "    if ret.shape[0] == 1:\n",
    "        ret = ret[0]\n",
    "    return ret\n",
    "\n",
    "def preprocessing(img, scale=(224, 224)):\n",
    "    if scale is not None:\n",
    "        img = skimage.transform.resize(img, scale)\n",
    "    img = nd.array(img)\n",
    "    img = nd.broadcast_minus(img, nd.array([[[0.485, 0.456, 0.406]]]))\n",
    "    img = nd.broadcast_div(img, nd.array([[[0.229, 0.224, 0.225]]]))\n",
    "    return nd.transpose(img, (2, 0, 1))"
   ]
  },
  {
   "cell_type": "code",
   "execution_count": 3,
   "metadata": {},
   "outputs": [],
   "source": [
    "model = vision.resnet50_v1(pretrained=True)\n",
    "model.hybridize()"
   ]
  },
  {
   "cell_type": "code",
   "execution_count": 4,
   "metadata": {},
   "outputs": [],
   "source": [
    "img = skimage.io.imread('C:/Users/v-dinliu/Pictures/dog1.jpg')"
   ]
  },
  {
   "cell_type": "code",
   "execution_count": 49,
   "metadata": {},
   "outputs": [],
   "source": [
    "def preprocessing(img, scale=(224, 224)):\n",
    "    if scale is not None:\n",
    "        img = skimage.transform.resize(img, scale)\n",
    "    img = nd.array(img)\n",
    "    img = nd.broadcast_minus(img, nd.array([[[0.485, 0.456, 0.406]]]))\n",
    "    img = nd.broadcast_div(img, nd.array([[[0.229, 0.224, 0.225]]]))\n",
    "    return nd.transpose(img, (2, 0, 1))"
   ]
  },
  {
   "cell_type": "code",
   "execution_count": 50,
   "metadata": {},
   "outputs": [],
   "source": [
    "img = validationImg1[300]"
   ]
  },
  {
   "cell_type": "code",
   "execution_count": 69,
   "metadata": {},
   "outputs": [
    {
     "data": {
      "text/plain": [
       "HybridSequential(\n",
       "  (0): Conv2D(3 -> 64, kernel_size=(7, 7), stride=(2, 2), padding=(3, 3), bias=False)\n",
       "  (1): BatchNorm(axis=1, eps=1e-05, momentum=0.9, fix_gamma=False, in_channels=64)\n",
       "  (2): Activation(relu)\n",
       "  (3): MaxPool2D(size=(3, 3), stride=(2, 2), padding=(1, 1), ceil_mode=False)\n",
       "  (4): HybridSequential(\n",
       "    (0): BottleneckV1(\n",
       "      (body): HybridSequential(\n",
       "        (0): Conv2D(64 -> 64, kernel_size=(1, 1), stride=(1, 1))\n",
       "        (1): BatchNorm(axis=1, eps=1e-05, momentum=0.9, fix_gamma=False, in_channels=64)\n",
       "        (2): Activation(relu)\n",
       "        (3): Conv2D(64 -> 64, kernel_size=(3, 3), stride=(1, 1), padding=(1, 1), bias=False)\n",
       "        (4): BatchNorm(axis=1, eps=1e-05, momentum=0.9, fix_gamma=False, in_channels=64)\n",
       "        (5): Activation(relu)\n",
       "        (6): Conv2D(64 -> 256, kernel_size=(1, 1), stride=(1, 1))\n",
       "        (7): BatchNorm(axis=1, eps=1e-05, momentum=0.9, fix_gamma=False, in_channels=256)\n",
       "      )\n",
       "      (downsample): HybridSequential(\n",
       "        (0): Conv2D(64 -> 256, kernel_size=(1, 1), stride=(1, 1), bias=False)\n",
       "        (1): BatchNorm(axis=1, eps=1e-05, momentum=0.9, fix_gamma=False, in_channels=256)\n",
       "      )\n",
       "    )\n",
       "    (1): BottleneckV1(\n",
       "      (body): HybridSequential(\n",
       "        (0): Conv2D(256 -> 64, kernel_size=(1, 1), stride=(1, 1))\n",
       "        (1): BatchNorm(axis=1, eps=1e-05, momentum=0.9, fix_gamma=False, in_channels=64)\n",
       "        (2): Activation(relu)\n",
       "        (3): Conv2D(64 -> 64, kernel_size=(3, 3), stride=(1, 1), padding=(1, 1), bias=False)\n",
       "        (4): BatchNorm(axis=1, eps=1e-05, momentum=0.9, fix_gamma=False, in_channels=64)\n",
       "        (5): Activation(relu)\n",
       "        (6): Conv2D(64 -> 256, kernel_size=(1, 1), stride=(1, 1))\n",
       "        (7): BatchNorm(axis=1, eps=1e-05, momentum=0.9, fix_gamma=False, in_channels=256)\n",
       "      )\n",
       "    )\n",
       "    (2): BottleneckV1(\n",
       "      (body): HybridSequential(\n",
       "        (0): Conv2D(256 -> 64, kernel_size=(1, 1), stride=(1, 1))\n",
       "        (1): BatchNorm(axis=1, eps=1e-05, momentum=0.9, fix_gamma=False, in_channels=64)\n",
       "        (2): Activation(relu)\n",
       "        (3): Conv2D(64 -> 64, kernel_size=(3, 3), stride=(1, 1), padding=(1, 1), bias=False)\n",
       "        (4): BatchNorm(axis=1, eps=1e-05, momentum=0.9, fix_gamma=False, in_channels=64)\n",
       "        (5): Activation(relu)\n",
       "        (6): Conv2D(64 -> 256, kernel_size=(1, 1), stride=(1, 1))\n",
       "        (7): BatchNorm(axis=1, eps=1e-05, momentum=0.9, fix_gamma=False, in_channels=256)\n",
       "      )\n",
       "    )\n",
       "  )\n",
       "  (5): HybridSequential(\n",
       "    (0): BottleneckV1(\n",
       "      (body): HybridSequential(\n",
       "        (0): Conv2D(256 -> 128, kernel_size=(1, 1), stride=(1, 1))\n",
       "        (1): BatchNorm(axis=1, eps=1e-05, momentum=0.9, fix_gamma=False, in_channels=128)\n",
       "        (2): Activation(relu)\n",
       "        (3): Conv2D(128 -> 128, kernel_size=(3, 3), stride=(2, 2), padding=(1, 1), bias=False)\n",
       "        (4): BatchNorm(axis=1, eps=1e-05, momentum=0.9, fix_gamma=False, in_channels=128)\n",
       "        (5): Activation(relu)\n",
       "        (6): Conv2D(128 -> 512, kernel_size=(1, 1), stride=(1, 1))\n",
       "        (7): BatchNorm(axis=1, eps=1e-05, momentum=0.9, fix_gamma=False, in_channels=512)\n",
       "      )\n",
       "      (downsample): HybridSequential(\n",
       "        (0): Conv2D(256 -> 512, kernel_size=(1, 1), stride=(2, 2), bias=False)\n",
       "        (1): BatchNorm(axis=1, eps=1e-05, momentum=0.9, fix_gamma=False, in_channels=512)\n",
       "      )\n",
       "    )\n",
       "    (1): BottleneckV1(\n",
       "      (body): HybridSequential(\n",
       "        (0): Conv2D(512 -> 128, kernel_size=(1, 1), stride=(1, 1))\n",
       "        (1): BatchNorm(axis=1, eps=1e-05, momentum=0.9, fix_gamma=False, in_channels=128)\n",
       "        (2): Activation(relu)\n",
       "        (3): Conv2D(128 -> 128, kernel_size=(3, 3), stride=(1, 1), padding=(1, 1), bias=False)\n",
       "        (4): BatchNorm(axis=1, eps=1e-05, momentum=0.9, fix_gamma=False, in_channels=128)\n",
       "        (5): Activation(relu)\n",
       "        (6): Conv2D(128 -> 512, kernel_size=(1, 1), stride=(1, 1))\n",
       "        (7): BatchNorm(axis=1, eps=1e-05, momentum=0.9, fix_gamma=False, in_channels=512)\n",
       "      )\n",
       "    )\n",
       "    (2): BottleneckV1(\n",
       "      (body): HybridSequential(\n",
       "        (0): Conv2D(512 -> 128, kernel_size=(1, 1), stride=(1, 1))\n",
       "        (1): BatchNorm(axis=1, eps=1e-05, momentum=0.9, fix_gamma=False, in_channels=128)\n",
       "        (2): Activation(relu)\n",
       "        (3): Conv2D(128 -> 128, kernel_size=(3, 3), stride=(1, 1), padding=(1, 1), bias=False)\n",
       "        (4): BatchNorm(axis=1, eps=1e-05, momentum=0.9, fix_gamma=False, in_channels=128)\n",
       "        (5): Activation(relu)\n",
       "        (6): Conv2D(128 -> 512, kernel_size=(1, 1), stride=(1, 1))\n",
       "        (7): BatchNorm(axis=1, eps=1e-05, momentum=0.9, fix_gamma=False, in_channels=512)\n",
       "      )\n",
       "    )\n",
       "    (3): BottleneckV1(\n",
       "      (body): HybridSequential(\n",
       "        (0): Conv2D(512 -> 128, kernel_size=(1, 1), stride=(1, 1))\n",
       "        (1): BatchNorm(axis=1, eps=1e-05, momentum=0.9, fix_gamma=False, in_channels=128)\n",
       "        (2): Activation(relu)\n",
       "        (3): Conv2D(128 -> 128, kernel_size=(3, 3), stride=(1, 1), padding=(1, 1), bias=False)\n",
       "        (4): BatchNorm(axis=1, eps=1e-05, momentum=0.9, fix_gamma=False, in_channels=128)\n",
       "        (5): Activation(relu)\n",
       "        (6): Conv2D(128 -> 512, kernel_size=(1, 1), stride=(1, 1))\n",
       "        (7): BatchNorm(axis=1, eps=1e-05, momentum=0.9, fix_gamma=False, in_channels=512)\n",
       "      )\n",
       "    )\n",
       "  )\n",
       "  (6): HybridSequential(\n",
       "    (0): BottleneckV1(\n",
       "      (body): HybridSequential(\n",
       "        (0): Conv2D(512 -> 256, kernel_size=(1, 1), stride=(1, 1))\n",
       "        (1): BatchNorm(axis=1, eps=1e-05, momentum=0.9, fix_gamma=False, in_channels=256)\n",
       "        (2): Activation(relu)\n",
       "        (3): Conv2D(256 -> 256, kernel_size=(3, 3), stride=(2, 2), padding=(1, 1), bias=False)\n",
       "        (4): BatchNorm(axis=1, eps=1e-05, momentum=0.9, fix_gamma=False, in_channels=256)\n",
       "        (5): Activation(relu)\n",
       "        (6): Conv2D(256 -> 1024, kernel_size=(1, 1), stride=(1, 1))\n",
       "        (7): BatchNorm(axis=1, eps=1e-05, momentum=0.9, fix_gamma=False, in_channels=1024)\n",
       "      )\n",
       "      (downsample): HybridSequential(\n",
       "        (0): Conv2D(512 -> 1024, kernel_size=(1, 1), stride=(2, 2), bias=False)\n",
       "        (1): BatchNorm(axis=1, eps=1e-05, momentum=0.9, fix_gamma=False, in_channels=1024)\n",
       "      )\n",
       "    )\n",
       "    (1): BottleneckV1(\n",
       "      (body): HybridSequential(\n",
       "        (0): Conv2D(1024 -> 256, kernel_size=(1, 1), stride=(1, 1))\n",
       "        (1): BatchNorm(axis=1, eps=1e-05, momentum=0.9, fix_gamma=False, in_channels=256)\n",
       "        (2): Activation(relu)\n",
       "        (3): Conv2D(256 -> 256, kernel_size=(3, 3), stride=(1, 1), padding=(1, 1), bias=False)\n",
       "        (4): BatchNorm(axis=1, eps=1e-05, momentum=0.9, fix_gamma=False, in_channels=256)\n",
       "        (5): Activation(relu)\n",
       "        (6): Conv2D(256 -> 1024, kernel_size=(1, 1), stride=(1, 1))\n",
       "        (7): BatchNorm(axis=1, eps=1e-05, momentum=0.9, fix_gamma=False, in_channels=1024)\n",
       "      )\n",
       "    )\n",
       "    (2): BottleneckV1(\n",
       "      (body): HybridSequential(\n",
       "        (0): Conv2D(1024 -> 256, kernel_size=(1, 1), stride=(1, 1))\n",
       "        (1): BatchNorm(axis=1, eps=1e-05, momentum=0.9, fix_gamma=False, in_channels=256)\n",
       "        (2): Activation(relu)\n",
       "        (3): Conv2D(256 -> 256, kernel_size=(3, 3), stride=(1, 1), padding=(1, 1), bias=False)\n",
       "        (4): BatchNorm(axis=1, eps=1e-05, momentum=0.9, fix_gamma=False, in_channels=256)\n",
       "        (5): Activation(relu)\n",
       "        (6): Conv2D(256 -> 1024, kernel_size=(1, 1), stride=(1, 1))\n",
       "        (7): BatchNorm(axis=1, eps=1e-05, momentum=0.9, fix_gamma=False, in_channels=1024)\n",
       "      )\n",
       "    )\n",
       "    (3): BottleneckV1(\n",
       "      (body): HybridSequential(\n",
       "        (0): Conv2D(1024 -> 256, kernel_size=(1, 1), stride=(1, 1))\n",
       "        (1): BatchNorm(axis=1, eps=1e-05, momentum=0.9, fix_gamma=False, in_channels=256)\n",
       "        (2): Activation(relu)\n",
       "        (3): Conv2D(256 -> 256, kernel_size=(3, 3), stride=(1, 1), padding=(1, 1), bias=False)\n",
       "        (4): BatchNorm(axis=1, eps=1e-05, momentum=0.9, fix_gamma=False, in_channels=256)\n",
       "        (5): Activation(relu)\n",
       "        (6): Conv2D(256 -> 1024, kernel_size=(1, 1), stride=(1, 1))\n",
       "        (7): BatchNorm(axis=1, eps=1e-05, momentum=0.9, fix_gamma=False, in_channels=1024)\n",
       "      )\n",
       "    )\n",
       "    (4): BottleneckV1(\n",
       "      (body): HybridSequential(\n",
       "        (0): Conv2D(1024 -> 256, kernel_size=(1, 1), stride=(1, 1))\n",
       "        (1): BatchNorm(axis=1, eps=1e-05, momentum=0.9, fix_gamma=False, in_channels=256)\n",
       "        (2): Activation(relu)\n",
       "        (3): Conv2D(256 -> 256, kernel_size=(3, 3), stride=(1, 1), padding=(1, 1), bias=False)\n",
       "        (4): BatchNorm(axis=1, eps=1e-05, momentum=0.9, fix_gamma=False, in_channels=256)\n",
       "        (5): Activation(relu)\n",
       "        (6): Conv2D(256 -> 1024, kernel_size=(1, 1), stride=(1, 1))\n",
       "        (7): BatchNorm(axis=1, eps=1e-05, momentum=0.9, fix_gamma=False, in_channels=1024)\n",
       "      )\n",
       "    )\n",
       "    (5): BottleneckV1(\n",
       "      (body): HybridSequential(\n",
       "        (0): Conv2D(1024 -> 256, kernel_size=(1, 1), stride=(1, 1))\n",
       "        (1): BatchNorm(axis=1, eps=1e-05, momentum=0.9, fix_gamma=False, in_channels=256)\n",
       "        (2): Activation(relu)\n",
       "        (3): Conv2D(256 -> 256, kernel_size=(3, 3), stride=(1, 1), padding=(1, 1), bias=False)\n",
       "        (4): BatchNorm(axis=1, eps=1e-05, momentum=0.9, fix_gamma=False, in_channels=256)\n",
       "        (5): Activation(relu)\n",
       "        (6): Conv2D(256 -> 1024, kernel_size=(1, 1), stride=(1, 1))\n",
       "        (7): BatchNorm(axis=1, eps=1e-05, momentum=0.9, fix_gamma=False, in_channels=1024)\n",
       "      )\n",
       "    )\n",
       "  )\n",
       "  (7): HybridSequential(\n",
       "    (0): BottleneckV1(\n",
       "      (body): HybridSequential(\n",
       "        (0): Conv2D(1024 -> 512, kernel_size=(1, 1), stride=(1, 1))\n",
       "        (1): BatchNorm(axis=1, eps=1e-05, momentum=0.9, fix_gamma=False, in_channels=512)\n",
       "        (2): Activation(relu)\n",
       "        (3): Conv2D(512 -> 512, kernel_size=(3, 3), stride=(2, 2), padding=(1, 1), bias=False)\n",
       "        (4): BatchNorm(axis=1, eps=1e-05, momentum=0.9, fix_gamma=False, in_channels=512)\n",
       "        (5): Activation(relu)\n",
       "        (6): Conv2D(512 -> 2048, kernel_size=(1, 1), stride=(1, 1))\n",
       "        (7): BatchNorm(axis=1, eps=1e-05, momentum=0.9, fix_gamma=False, in_channels=2048)\n",
       "      )\n",
       "      (downsample): HybridSequential(\n",
       "        (0): Conv2D(1024 -> 2048, kernel_size=(1, 1), stride=(2, 2), bias=False)\n",
       "        (1): BatchNorm(axis=1, eps=1e-05, momentum=0.9, fix_gamma=False, in_channels=2048)\n",
       "      )\n",
       "    )\n",
       "    (1): BottleneckV1(\n",
       "      (body): HybridSequential(\n",
       "        (0): Conv2D(2048 -> 512, kernel_size=(1, 1), stride=(1, 1))\n",
       "        (1): BatchNorm(axis=1, eps=1e-05, momentum=0.9, fix_gamma=False, in_channels=512)\n",
       "        (2): Activation(relu)\n",
       "        (3): Conv2D(512 -> 512, kernel_size=(3, 3), stride=(1, 1), padding=(1, 1), bias=False)\n",
       "        (4): BatchNorm(axis=1, eps=1e-05, momentum=0.9, fix_gamma=False, in_channels=512)\n",
       "        (5): Activation(relu)\n",
       "        (6): Conv2D(512 -> 2048, kernel_size=(1, 1), stride=(1, 1))\n",
       "        (7): BatchNorm(axis=1, eps=1e-05, momentum=0.9, fix_gamma=False, in_channels=2048)\n",
       "      )\n",
       "    )\n",
       "    (2): BottleneckV1(\n",
       "      (body): HybridSequential(\n",
       "        (0): Conv2D(2048 -> 512, kernel_size=(1, 1), stride=(1, 1))\n",
       "        (1): BatchNorm(axis=1, eps=1e-05, momentum=0.9, fix_gamma=False, in_channels=512)\n",
       "        (2): Activation(relu)\n",
       "        (3): Conv2D(512 -> 512, kernel_size=(3, 3), stride=(1, 1), padding=(1, 1), bias=False)\n",
       "        (4): BatchNorm(axis=1, eps=1e-05, momentum=0.9, fix_gamma=False, in_channels=512)\n",
       "        (5): Activation(relu)\n",
       "        (6): Conv2D(512 -> 2048, kernel_size=(1, 1), stride=(1, 1))\n",
       "        (7): BatchNorm(axis=1, eps=1e-05, momentum=0.9, fix_gamma=False, in_channels=2048)\n",
       "      )\n",
       "    )\n",
       "  )\n",
       "  (8): GlobalAvgPool2D(size=(1, 1), stride=(1, 1), padding=(0, 0), ceil_mode=True)\n",
       ")"
      ]
     },
     "execution_count": 69,
     "metadata": {},
     "output_type": "execute_result"
    }
   ],
   "source": [
    "model.features"
   ]
  },
  {
   "cell_type": "code",
   "execution_count": 63,
   "metadata": {},
   "outputs": [],
   "source": [
    "from network.hybridnet import get_features\n",
    "fmap, = get_features(model.features, nd.expand_dims(preprocessing(img, scale=None), 0), [8])\n",
    "fmap = fmap.asnumpy()"
   ]
  },
  {
   "cell_type": "code",
   "execution_count": 67,
   "metadata": {},
   "outputs": [
    {
     "data": {
      "text/plain": [
       "(array([1.608e+03, 2.800e+02, 9.900e+01, 3.400e+01, 1.600e+01, 7.000e+00,\n",
       "        0.000e+00, 1.000e+00, 1.000e+00, 2.000e+00]),\n",
       " array([   0.        ,  329.67275391,  659.34550781,  989.01826172,\n",
       "        1318.69101563, 1648.36376953, 1978.03652344, 2307.70927734,\n",
       "        2637.38203125, 2967.05478516, 3296.72753906]),\n",
       " <a list of 10 Patch objects>)"
      ]
     },
     "execution_count": 67,
     "metadata": {},
     "output_type": "execute_result"
    },
    {
     "data": {
      "image/png": "[encoded data removed]",
      "text/plain": [
       "<Figure size 432x288 with 1 Axes>"
      ]
     },
     "metadata": {},
     "output_type": "display_data"
    }
   ],
   "source": [
    "plt.hist(fmap.flatten())"
   ]
  },
  {
   "cell_type": "code",
   "execution_count": 59,
   "metadata": {
    "scrolled": false
   },
   "outputs": [
    {
     "data": {
      "text/plain": [
       "(1, 2048, 12, 16)"
      ]
     },
     "execution_count": 59,
     "metadata": {},
     "output_type": "execute_result"
    }
   ],
   "source": [
    "fmap.shape"
   ]
  },
  {
   "cell_type": "code",
   "execution_count": null,
   "metadata": {},
   "outputs": [],
   "source": []
  },
  {
   "cell_type": "code",
   "execution_count": 48,
   "metadata": {},
   "outputs": [
    {
     "name": "stdout",
     "output_type": "stream",
     "text": [
      "file, file cabinet, filing cabinet\n",
      "birdhouse\n",
      "prison, prison house\n",
      "coil, spiral, volute, whorl, helix\n",
      "mailbox, letter box\n"
     ]
    }
   ],
   "source": [
    "for r, cid in enumerate(np.argsort(-pred[0])):\n",
    "    if r >= 5: \n",
    "        break\n",
    "    print(class_name[cid])"
   ]
  },
  {
   "cell_type": "code",
   "execution_count": 5,
   "metadata": {},
   "outputs": [],
   "source": [
    "from network import get_pipeline"
   ]
  },
  {
   "cell_type": "code",
   "execution_count": 8,
   "metadata": {},
   "outputs": [],
   "source": [
    "pipe = get_pipeline('hybridnet-coarse', ctx=mx.cpu(), lr_mult=1)"
   ]
  },
  {
   "cell_type": "code",
   "execution_count": 31,
   "metadata": {
    "scrolled": false
   },
   "outputs": [
    {
     "name": "stderr",
     "output_type": "stream",
     "text": [
      "C:\\Users\\v-dinliu\\AppData\\Local\\Continuum\\anaconda3\\envs\\mxnet\\lib\\site-packages\\skimage\\transform\\_warps.py:84: UserWarning: The default mode, 'constant', will be changed to 'reflect' in skimage 0.15.\n",
      "  warn(\"The default mode, 'constant', will be changed to 'reflect' in \"\n"
     ]
    }
   ],
   "source": [
    "ts = (320, 448)\n",
    "fmap = call_mx_func(pipe.network, preprocessing(validationImg1[10], ts), preprocessing(validationImg2[10], ts))"
   ]
  },
  {
   "cell_type": "code",
   "execution_count": 33,
   "metadata": {
    "scrolled": false
   },
   "outputs": [
    {
     "data": {
      "text/plain": [
       "(10, 14, 2)"
      ]
     },
     "execution_count": 33,
     "metadata": {},
     "output_type": "execute_result"
    }
   ],
   "source": [
    "fmap.shape"
   ]
  },
  {
   "cell_type": "code",
   "execution_count": 43,
   "metadata": {
    "scrolled": false
   },
   "outputs": [],
   "source": [
    "pipe.network.flow[0].weight.lr_mult = 0.02"
   ]
  },
  {
   "cell_type": "code",
   "execution_count": 45,
   "metadata": {},
   "outputs": [
    {
     "data": {
      "text/plain": [
       "<mxnet.optimizer.SGD at 0x1610a4dd320>"
      ]
     },
     "execution_count": 45,
     "metadata": {},
     "output_type": "execute_result"
    }
   ],
   "source": [
    "pipe.trainer._optimizer"
   ]
  },
  {
   "cell_type": "code",
   "execution_count": null,
   "metadata": {},
   "outputs": [],
   "source": []
  }
 ],
 "metadata": {
  "kernelspec": {
   "display_name": "Python 3",
   "language": "python",
   "name": "python3"
  },
  "language_info": {
   "codemirror_mode": {
    "name": "ipython",
    "version": 3
   },
   "file_extension": ".py",
   "mimetype": "text/x-python",
   "name": "python",
   "nbconvert_exporter": "python",
   "pygments_lexer": "ipython3",
   "version": "3.6.4"
  }
 },
 "nbformat": 4,
 "nbformat_minor": 2
}
