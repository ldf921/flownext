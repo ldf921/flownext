{
 "cells": [
  {
   "cell_type": "code",
   "execution_count": 1,
   "metadata": {},
   "outputs": [
    {
     "name": "stderr",
     "output_type": "stream",
     "text": [
      "C:\\Users\\v-dinliu\\AppData\\Local\\Continuum\\anaconda3\\envs\\mxnet\\lib\\site-packages\\h5py\\__init__.py:36: FutureWarning: Conversion of the second argument of issubdtype from `float` to `np.floating` is deprecated. In future, it will be treated as `np.float64 == np.dtype(float).type`.\n",
      "  from ._conv import register_converters as _register_converters\n"
     ]
    }
   ],
   "source": [
    "from mxnet import nd\n",
    "from mxnet.gluon.model_zoo import vision\n",
    "import pandas as pd\n",
    "import mxnet as mx"
   ]
  },
  {
   "cell_type": "code",
   "execution_count": 26,
   "metadata": {},
   "outputs": [],
   "source": [
    "resnet50 = vision.resnet50_v1()"
   ]
  },
  {
   "cell_type": "code",
   "execution_count": 27,
   "metadata": {
    "scrolled": true
   },
   "outputs": [
    {
     "data": {
      "text/plain": [
       "[(0,\n",
       "  Conv2D(None -> 64, kernel_size=(7, 7), stride=(2, 2), padding=(3, 3), bias=False)),\n",
       " (1,\n",
       "  BatchNorm(axis=1, eps=1e-05, momentum=0.9, fix_gamma=False, in_channels=None)),\n",
       " (2, Activation(relu)),\n",
       " (3, MaxPool2D(size=(3, 3), stride=(2, 2), padding=(1, 1), ceil_mode=False)),\n",
       " (4, HybridSequential(\n",
       "    (0): BottleneckV1(\n",
       "      (body): HybridSequential(\n",
       "        (0): Conv2D(None -> 64, kernel_size=(1, 1), stride=(1, 1))\n",
       "        (1): BatchNorm(axis=1, eps=1e-05, momentum=0.9, fix_gamma=False, in_channels=None)\n",
       "        (2): Activation(relu)\n",
       "        (3): Conv2D(64 -> 64, kernel_size=(3, 3), stride=(1, 1), padding=(1, 1), bias=False)\n",
       "        (4): BatchNorm(axis=1, eps=1e-05, momentum=0.9, fix_gamma=False, in_channels=None)\n",
       "        (5): Activation(relu)\n",
       "        (6): Conv2D(None -> 256, kernel_size=(1, 1), stride=(1, 1))\n",
       "        (7): BatchNorm(axis=1, eps=1e-05, momentum=0.9, fix_gamma=False, in_channels=None)\n",
       "      )\n",
       "      (downsample): HybridSequential(\n",
       "        (0): Conv2D(64 -> 256, kernel_size=(1, 1), stride=(1, 1), bias=False)\n",
       "        (1): BatchNorm(axis=1, eps=1e-05, momentum=0.9, fix_gamma=False, in_channels=None)\n",
       "      )\n",
       "    )\n",
       "    (1): BottleneckV1(\n",
       "      (body): HybridSequential(\n",
       "        (0): Conv2D(None -> 64, kernel_size=(1, 1), stride=(1, 1))\n",
       "        (1): BatchNorm(axis=1, eps=1e-05, momentum=0.9, fix_gamma=False, in_channels=None)\n",
       "        (2): Activation(relu)\n",
       "        (3): Conv2D(64 -> 64, kernel_size=(3, 3), stride=(1, 1), padding=(1, 1), bias=False)\n",
       "        (4): BatchNorm(axis=1, eps=1e-05, momentum=0.9, fix_gamma=False, in_channels=None)\n",
       "        (5): Activation(relu)\n",
       "        (6): Conv2D(None -> 256, kernel_size=(1, 1), stride=(1, 1))\n",
       "        (7): BatchNorm(axis=1, eps=1e-05, momentum=0.9, fix_gamma=False, in_channels=None)\n",
       "      )\n",
       "    )\n",
       "    (2): BottleneckV1(\n",
       "      (body): HybridSequential(\n",
       "        (0): Conv2D(None -> 64, kernel_size=(1, 1), stride=(1, 1))\n",
       "        (1): BatchNorm(axis=1, eps=1e-05, momentum=0.9, fix_gamma=False, in_channels=None)\n",
       "        (2): Activation(relu)\n",
       "        (3): Conv2D(64 -> 64, kernel_size=(3, 3), stride=(1, 1), padding=(1, 1), bias=False)\n",
       "        (4): BatchNorm(axis=1, eps=1e-05, momentum=0.9, fix_gamma=False, in_channels=None)\n",
       "        (5): Activation(relu)\n",
       "        (6): Conv2D(None -> 256, kernel_size=(1, 1), stride=(1, 1))\n",
       "        (7): BatchNorm(axis=1, eps=1e-05, momentum=0.9, fix_gamma=False, in_channels=None)\n",
       "      )\n",
       "    )\n",
       "  )),\n",
       " (5, HybridSequential(\n",
       "    (0): BottleneckV1(\n",
       "      (body): HybridSequential(\n",
       "        (0): Conv2D(None -> 128, kernel_size=(1, 1), stride=(1, 1))\n",
       "        (1): BatchNorm(axis=1, eps=1e-05, momentum=0.9, fix_gamma=False, in_channels=None)\n",
       "        (2): Activation(relu)\n",
       "        (3): Conv2D(128 -> 128, kernel_size=(3, 3), stride=(2, 2), padding=(1, 1), bias=False)\n",
       "        (4): BatchNorm(axis=1, eps=1e-05, momentum=0.9, fix_gamma=False, in_channels=None)\n",
       "        (5): Activation(relu)\n",
       "        (6): Conv2D(None -> 512, kernel_size=(1, 1), stride=(1, 1))\n",
       "        (7): BatchNorm(axis=1, eps=1e-05, momentum=0.9, fix_gamma=False, in_channels=None)\n",
       "      )\n",
       "      (downsample): HybridSequential(\n",
       "        (0): Conv2D(256 -> 512, kernel_size=(1, 1), stride=(2, 2), bias=False)\n",
       "        (1): BatchNorm(axis=1, eps=1e-05, momentum=0.9, fix_gamma=False, in_channels=None)\n",
       "      )\n",
       "    )\n",
       "    (1): BottleneckV1(\n",
       "      (body): HybridSequential(\n",
       "        (0): Conv2D(None -> 128, kernel_size=(1, 1), stride=(1, 1))\n",
       "        (1): BatchNorm(axis=1, eps=1e-05, momentum=0.9, fix_gamma=False, in_channels=None)\n",
       "        (2): Activation(relu)\n",
       "        (3): Conv2D(128 -> 128, kernel_size=(3, 3), stride=(1, 1), padding=(1, 1), bias=False)\n",
       "        (4): BatchNorm(axis=1, eps=1e-05, momentum=0.9, fix_gamma=False, in_channels=None)\n",
       "        (5): Activation(relu)\n",
       "        (6): Conv2D(None -> 512, kernel_size=(1, 1), stride=(1, 1))\n",
       "        (7): BatchNorm(axis=1, eps=1e-05, momentum=0.9, fix_gamma=False, in_channels=None)\n",
       "      )\n",
       "    )\n",
       "    (2): BottleneckV1(\n",
       "      (body): HybridSequential(\n",
       "        (0): Conv2D(None -> 128, kernel_size=(1, 1), stride=(1, 1))\n",
       "        (1): BatchNorm(axis=1, eps=1e-05, momentum=0.9, fix_gamma=False, in_channels=None)\n",
       "        (2): Activation(relu)\n",
       "        (3): Conv2D(128 -> 128, kernel_size=(3, 3), stride=(1, 1), padding=(1, 1), bias=False)\n",
       "        (4): BatchNorm(axis=1, eps=1e-05, momentum=0.9, fix_gamma=False, in_channels=None)\n",
       "        (5): Activation(relu)\n",
       "        (6): Conv2D(None -> 512, kernel_size=(1, 1), stride=(1, 1))\n",
       "        (7): BatchNorm(axis=1, eps=1e-05, momentum=0.9, fix_gamma=False, in_channels=None)\n",
       "      )\n",
       "    )\n",
       "    (3): BottleneckV1(\n",
       "      (body): HybridSequential(\n",
       "        (0): Conv2D(None -> 128, kernel_size=(1, 1), stride=(1, 1))\n",
       "        (1): BatchNorm(axis=1, eps=1e-05, momentum=0.9, fix_gamma=False, in_channels=None)\n",
       "        (2): Activation(relu)\n",
       "        (3): Conv2D(128 -> 128, kernel_size=(3, 3), stride=(1, 1), padding=(1, 1), bias=False)\n",
       "        (4): BatchNorm(axis=1, eps=1e-05, momentum=0.9, fix_gamma=False, in_channels=None)\n",
       "        (5): Activation(relu)\n",
       "        (6): Conv2D(None -> 512, kernel_size=(1, 1), stride=(1, 1))\n",
       "        (7): BatchNorm(axis=1, eps=1e-05, momentum=0.9, fix_gamma=False, in_channels=None)\n",
       "      )\n",
       "    )\n",
       "  )),\n",
       " (6, HybridSequential(\n",
       "    (0): BottleneckV1(\n",
       "      (body): HybridSequential(\n",
       "        (0): Conv2D(None -> 256, kernel_size=(1, 1), stride=(1, 1))\n",
       "        (1): BatchNorm(axis=1, eps=1e-05, momentum=0.9, fix_gamma=False, in_channels=None)\n",
       "        (2): Activation(relu)\n",
       "        (3): Conv2D(256 -> 256, kernel_size=(3, 3), stride=(2, 2), padding=(1, 1), bias=False)\n",
       "        (4): BatchNorm(axis=1, eps=1e-05, momentum=0.9, fix_gamma=False, in_channels=None)\n",
       "        (5): Activation(relu)\n",
       "        (6): Conv2D(None -> 1024, kernel_size=(1, 1), stride=(1, 1))\n",
       "        (7): BatchNorm(axis=1, eps=1e-05, momentum=0.9, fix_gamma=False, in_channels=None)\n",
       "      )\n",
       "      (downsample): HybridSequential(\n",
       "        (0): Conv2D(512 -> 1024, kernel_size=(1, 1), stride=(2, 2), bias=False)\n",
       "        (1): BatchNorm(axis=1, eps=1e-05, momentum=0.9, fix_gamma=False, in_channels=None)\n",
       "      )\n",
       "    )\n",
       "    (1): BottleneckV1(\n",
       "      (body): HybridSequential(\n",
       "        (0): Conv2D(None -> 256, kernel_size=(1, 1), stride=(1, 1))\n",
       "        (1): BatchNorm(axis=1, eps=1e-05, momentum=0.9, fix_gamma=False, in_channels=None)\n",
       "        (2): Activation(relu)\n",
       "        (3): Conv2D(256 -> 256, kernel_size=(3, 3), stride=(1, 1), padding=(1, 1), bias=False)\n",
       "        (4): BatchNorm(axis=1, eps=1e-05, momentum=0.9, fix_gamma=False, in_channels=None)\n",
       "        (5): Activation(relu)\n",
       "        (6): Conv2D(None -> 1024, kernel_size=(1, 1), stride=(1, 1))\n",
       "        (7): BatchNorm(axis=1, eps=1e-05, momentum=0.9, fix_gamma=False, in_channels=None)\n",
       "      )\n",
       "    )\n",
       "    (2): BottleneckV1(\n",
       "      (body): HybridSequential(\n",
       "        (0): Conv2D(None -> 256, kernel_size=(1, 1), stride=(1, 1))\n",
       "        (1): BatchNorm(axis=1, eps=1e-05, momentum=0.9, fix_gamma=False, in_channels=None)\n",
       "        (2): Activation(relu)\n",
       "        (3): Conv2D(256 -> 256, kernel_size=(3, 3), stride=(1, 1), padding=(1, 1), bias=False)\n",
       "        (4): BatchNorm(axis=1, eps=1e-05, momentum=0.9, fix_gamma=False, in_channels=None)\n",
       "        (5): Activation(relu)\n",
       "        (6): Conv2D(None -> 1024, kernel_size=(1, 1), stride=(1, 1))\n",
       "        (7): BatchNorm(axis=1, eps=1e-05, momentum=0.9, fix_gamma=False, in_channels=None)\n",
       "      )\n",
       "    )\n",
       "    (3): BottleneckV1(\n",
       "      (body): HybridSequential(\n",
       "        (0): Conv2D(None -> 256, kernel_size=(1, 1), stride=(1, 1))\n",
       "        (1): BatchNorm(axis=1, eps=1e-05, momentum=0.9, fix_gamma=False, in_channels=None)\n",
       "        (2): Activation(relu)\n",
       "        (3): Conv2D(256 -> 256, kernel_size=(3, 3), stride=(1, 1), padding=(1, 1), bias=False)\n",
       "        (4): BatchNorm(axis=1, eps=1e-05, momentum=0.9, fix_gamma=False, in_channels=None)\n",
       "        (5): Activation(relu)\n",
       "        (6): Conv2D(None -> 1024, kernel_size=(1, 1), stride=(1, 1))\n",
       "        (7): BatchNorm(axis=1, eps=1e-05, momentum=0.9, fix_gamma=False, in_channels=None)\n",
       "      )\n",
       "    )\n",
       "    (4): BottleneckV1(\n",
       "      (body): HybridSequential(\n",
       "        (0): Conv2D(None -> 256, kernel_size=(1, 1), stride=(1, 1))\n",
       "        (1): BatchNorm(axis=1, eps=1e-05, momentum=0.9, fix_gamma=False, in_channels=None)\n",
       "        (2): Activation(relu)\n",
       "        (3): Conv2D(256 -> 256, kernel_size=(3, 3), stride=(1, 1), padding=(1, 1), bias=False)\n",
       "        (4): BatchNorm(axis=1, eps=1e-05, momentum=0.9, fix_gamma=False, in_channels=None)\n",
       "        (5): Activation(relu)\n",
       "        (6): Conv2D(None -> 1024, kernel_size=(1, 1), stride=(1, 1))\n",
       "        (7): BatchNorm(axis=1, eps=1e-05, momentum=0.9, fix_gamma=False, in_channels=None)\n",
       "      )\n",
       "    )\n",
       "    (5): BottleneckV1(\n",
       "      (body): HybridSequential(\n",
       "        (0): Conv2D(None -> 256, kernel_size=(1, 1), stride=(1, 1))\n",
       "        (1): BatchNorm(axis=1, eps=1e-05, momentum=0.9, fix_gamma=False, in_channels=None)\n",
       "        (2): Activation(relu)\n",
       "        (3): Conv2D(256 -> 256, kernel_size=(3, 3), stride=(1, 1), padding=(1, 1), bias=False)\n",
       "        (4): BatchNorm(axis=1, eps=1e-05, momentum=0.9, fix_gamma=False, in_channels=None)\n",
       "        (5): Activation(relu)\n",
       "        (6): Conv2D(None -> 1024, kernel_size=(1, 1), stride=(1, 1))\n",
       "        (7): BatchNorm(axis=1, eps=1e-05, momentum=0.9, fix_gamma=False, in_channels=None)\n",
       "      )\n",
       "    )\n",
       "  )),\n",
       " (7, HybridSequential(\n",
       "    (0): BottleneckV1(\n",
       "      (body): HybridSequential(\n",
       "        (0): Conv2D(None -> 512, kernel_size=(1, 1), stride=(1, 1))\n",
       "        (1): BatchNorm(axis=1, eps=1e-05, momentum=0.9, fix_gamma=False, in_channels=None)\n",
       "        (2): Activation(relu)\n",
       "        (3): Conv2D(512 -> 512, kernel_size=(3, 3), stride=(2, 2), padding=(1, 1), bias=False)\n",
       "        (4): BatchNorm(axis=1, eps=1e-05, momentum=0.9, fix_gamma=False, in_channels=None)\n",
       "        (5): Activation(relu)\n",
       "        (6): Conv2D(None -> 2048, kernel_size=(1, 1), stride=(1, 1))\n",
       "        (7): BatchNorm(axis=1, eps=1e-05, momentum=0.9, fix_gamma=False, in_channels=None)\n",
       "      )\n",
       "      (downsample): HybridSequential(\n",
       "        (0): Conv2D(1024 -> 2048, kernel_size=(1, 1), stride=(2, 2), bias=False)\n",
       "        (1): BatchNorm(axis=1, eps=1e-05, momentum=0.9, fix_gamma=False, in_channels=None)\n",
       "      )\n",
       "    )\n",
       "    (1): BottleneckV1(\n",
       "      (body): HybridSequential(\n",
       "        (0): Conv2D(None -> 512, kernel_size=(1, 1), stride=(1, 1))\n",
       "        (1): BatchNorm(axis=1, eps=1e-05, momentum=0.9, fix_gamma=False, in_channels=None)\n",
       "        (2): Activation(relu)\n",
       "        (3): Conv2D(512 -> 512, kernel_size=(3, 3), stride=(1, 1), padding=(1, 1), bias=False)\n",
       "        (4): BatchNorm(axis=1, eps=1e-05, momentum=0.9, fix_gamma=False, in_channels=None)\n",
       "        (5): Activation(relu)\n",
       "        (6): Conv2D(None -> 2048, kernel_size=(1, 1), stride=(1, 1))\n",
       "        (7): BatchNorm(axis=1, eps=1e-05, momentum=0.9, fix_gamma=False, in_channels=None)\n",
       "      )\n",
       "    )\n",
       "    (2): BottleneckV1(\n",
       "      (body): HybridSequential(\n",
       "        (0): Conv2D(None -> 512, kernel_size=(1, 1), stride=(1, 1))\n",
       "        (1): BatchNorm(axis=1, eps=1e-05, momentum=0.9, fix_gamma=False, in_channels=None)\n",
       "        (2): Activation(relu)\n",
       "        (3): Conv2D(512 -> 512, kernel_size=(3, 3), stride=(1, 1), padding=(1, 1), bias=False)\n",
       "        (4): BatchNorm(axis=1, eps=1e-05, momentum=0.9, fix_gamma=False, in_channels=None)\n",
       "        (5): Activation(relu)\n",
       "        (6): Conv2D(None -> 2048, kernel_size=(1, 1), stride=(1, 1))\n",
       "        (7): BatchNorm(axis=1, eps=1e-05, momentum=0.9, fix_gamma=False, in_channels=None)\n",
       "      )\n",
       "    )\n",
       "  )),\n",
       " (8,\n",
       "  GlobalAvgPool2D(size=(1, 1), stride=(1, 1), padding=(0, 0), ceil_mode=True))]"
      ]
     },
     "execution_count": 27,
     "metadata": {},
     "output_type": "execute_result"
    }
   ],
   "source": [
    "list(enumerate(resnet50.features))"
   ]
  },
  {
   "cell_type": "code",
   "execution_count": 11,
   "metadata": {},
   "outputs": [],
   "source": [
    "vgg16.collect_params().initialize()"
   ]
  },
  {
   "cell_type": "code",
   "execution_count": 17,
   "metadata": {},
   "outputs": [],
   "source": [
    "from mxnet import gluon"
   ]
  },
  {
   "cell_type": "code",
   "execution_count": 18,
   "metadata": {},
   "outputs": [],
   "source": [
    "gluon.nn.Sequential?"
   ]
  },
  {
   "cell_type": "code",
   "execution_count": 16,
   "metadata": {},
   "outputs": [
    {
     "data": {
      "text/plain": [
       "[Conv2D(3 -> 64, kernel_size=(3, 3), stride=(1, 1), padding=(1, 1)),\n",
       " Activation(relu),\n",
       " Conv2D(64 -> 64, kernel_size=(3, 3), stride=(1, 1), padding=(1, 1)),\n",
       " Activation(relu)]"
      ]
     },
     "execution_count": 16,
     "metadata": {},
     "output_type": "execute_result"
    }
   ],
   "source": [
    "vgg16.features[0:4]"
   ]
  },
  {
   "cell_type": "code",
   "execution_count": 96,
   "metadata": {},
   "outputs": [],
   "source": [
    "import sys\n",
    "sys.path.append('data')\n",
    "import imagenet_class"
   ]
  },
  {
   "cell_type": "code",
   "execution_count": 90,
   "metadata": {
    "scrolled": true
   },
   "outputs": [],
   "source": [
    "resnet18 = vision.resnet18_v1(pretrained=True)"
   ]
  },
  {
   "cell_type": "code",
   "execution_count": 179,
   "metadata": {},
   "outputs": [
    {
     "name": "stdout",
     "output_type": "stream",
     "text": [
      "Model file is not found. Downloading.\n",
      "Downloading C:\\Users\\v-dinliu\\.mxnet\\models\\resnet50_v1-2a903ab2.zip from https://apache-mxnet.s3-accelerate.dualstack.amazonaws.com/gluon/models/resnet50_v1-2a903ab2.zip...\n"
     ]
    }
   ],
   "source": [
    "resnet50 = vision.resnet50_v1(pretrained=True)"
   ]
  },
  {
   "cell_type": "code",
   "execution_count": 187,
   "metadata": {},
   "outputs": [
    {
     "data": {
      "text/plain": [
       "28.0"
      ]
     },
     "execution_count": 187,
     "metadata": {},
     "output_type": "execute_result"
    }
   ],
   "source": [
    "448/16"
   ]
  },
  {
   "cell_type": "code",
   "execution_count": 1,
   "metadata": {},
   "outputs": [
    {
     "name": "stdout",
     "output_type": "stream",
     "text": [
      "Z:\\v-dinliu\\Flow2D\n"
     ]
    }
   ],
   "source": [
    "cd .."
   ]
  },
  {
   "cell_type": "code",
   "execution_count": 5,
   "metadata": {},
   "outputs": [
    {
     "data": {
      "text/plain": [
       "<module 'network.hybridnet' from 'Z:\\\\v-dinliu\\\\Flow2D\\\\network\\\\hybridnet.py'>"
      ]
     },
     "execution_count": 5,
     "metadata": {},
     "output_type": "execute_result"
    }
   ],
   "source": [
    "import network.hybridnet\n",
    "import mxnet as mx\n",
    "from mxnet import nd\n",
    "from importlib import reload\n",
    "reload(network.hybridnet)"
   ]
  },
  {
   "cell_type": "code",
   "execution_count": 6,
   "metadata": {},
   "outputs": [],
   "source": [
    "pipeline = network.hybridnet.Pipeline(ctx=[mx.cpu()])"
   ]
  },
  {
   "cell_type": "code",
   "execution_count": 8,
   "metadata": {},
   "outputs": [
    {
     "name": "stdout",
     "output_type": "stream",
     "text": [
      "(4, 512, 10, 10)\n",
      "(4, 256, 80, 80)\n",
      "(4, 512, 40, 40)\n",
      "(4, 1024, 20, 20)\n",
      "(4, 2048, 10, 10)\n"
     ]
    },
    {
     "data": {
      "text/plain": [
       "array([299.5405, 299.5405, 299.5405, 299.5405], dtype=float32)"
      ]
     },
     "execution_count": 8,
     "metadata": {},
     "output_type": "execute_result"
    }
   ],
   "source": [
    "pipeline.validate_batch(nd.zeros([4, 3, 320, 320]), nd.zeros([4, 3, 320, 320]),  nd.zeros([4, 2, 320, 320]))"
   ]
  },
  {
   "cell_type": "code",
   "execution_count": 68,
   "metadata": {},
   "outputs": [],
   "source": [
    "mx.image.color_normalize?"
   ]
  },
  {
   "cell_type": "code",
   "execution_count": 75,
   "metadata": {},
   "outputs": [],
   "source": [
    "def pred_img(image):\n",
    "    image = image/255\n",
    "    normalized = mx.image.color_normalize(image,\n",
    "                                          mean=mx.nd.array([0.485, 0.456, 0.406]).reshape((3, 1, 1)),\n",
    "                                          std=mx.nd.array([0.229, 0.224, 0.225]).reshape((3, 1, 1)))\n",
    "    normalized = normalized.expand_dims(axis=0)\n",
    "    pred = resnet18(normalized)\n",
    "    return pred"
   ]
  },
  {
   "cell_type": "code",
   "execution_count": 239,
   "metadata": {},
   "outputs": [],
   "source": [
    "a = nd.array([2, 3, 3, 4, 5])"
   ]
  },
  {
   "cell_type": "code",
   "execution_count": 244,
   "metadata": {},
   "outputs": [
    {
     "data": {
      "text/plain": [
       "\n",
       "[0. 1. 1. 0. 0.]\n",
       "<NDArray 5 @cpu(0)>"
      ]
     },
     "execution_count": 244,
     "metadata": {},
     "output_type": "execute_result"
    }
   ],
   "source": [
    "nd.minimum(a > 2, a < 4)"
   ]
  },
  {
   "cell_type": "code",
   "execution_count": 212,
   "metadata": {},
   "outputs": [
    {
     "data": {
      "text/plain": [
       "\n",
       "[[ 0.  1.  2.  3.  4.]\n",
       " [ 5.  6.  7.  8.  9.]\n",
       " [10. 11. 12. 13. 14.]\n",
       " [15. 16. 17. 18. 19.]]\n",
       "<NDArray 4x5 @cpu(0)>"
      ]
     },
     "execution_count": 212,
     "metadata": {},
     "output_type": "execute_result"
    }
   ],
   "source": [
    "nd.arange(20).reshape([4,5])"
   ]
  },
  {
   "cell_type": "code",
   "execution_count": 238,
   "metadata": {},
   "outputs": [
    {
     "data": {
      "text/plain": [
       "\n",
       "[[[0. 0. 1.]\n",
       "  [0. 0. 0.]\n",
       "  [0. 0. 0.]]]\n",
       "<NDArray 1x3x3 @cpu(0)>"
      ]
     },
     "execution_count": 238,
     "metadata": {},
     "output_type": "execute_result"
    }
   ],
   "source": [
    "nd.one_hot(nd.array([[2,3,3]]),depth=3)"
   ]
  },
  {
   "cell_type": "code",
   "execution_count": 217,
   "metadata": {},
   "outputs": [
    {
     "data": {
      "text/plain": [
       "\n",
       "[[1. 0. 0. 0. 0. 0. 0. 0. 0. 0.]\n",
       " [0. 1. 0. 0. 0. 0. 0. 0. 0. 0.]\n",
       " [0. 0. 1. 0. 0. 0. 0. 0. 0. 0.]]\n",
       "<NDArray 3x10 @cpu(0)>"
      ]
     },
     "execution_count": 217,
     "metadata": {},
     "output_type": "execute_result"
    }
   ],
   "source": [
    "nd.one_hot(nd.array([0,1,2]), depth=10)"
   ]
  },
  {
   "cell_type": "code",
   "execution_count": 209,
   "metadata": {},
   "outputs": [
    {
     "data": {
      "text/plain": [
       "\n",
       "[3 3 2]\n",
       "<NDArray 3 @cpu(0)>"
      ]
     },
     "execution_count": 209,
     "metadata": {},
     "output_type": "execute_result"
    }
   ],
   "source": [
    "nd.cast(nd.floor(nd.array([10, 9, 8]) / 3), 'int32')"
   ]
  },
  {
   "cell_type": "code",
   "execution_count": 189,
   "metadata": {},
   "outputs": [
    {
     "data": {
      "text/plain": [
       "ResNetV1(\n",
       "  (features): HybridSequential(\n",
       "    (0): Conv2D(3 -> 64, kernel_size=(7, 7), stride=(2, 2), padding=(3, 3), bias=False)\n",
       "    (1): BatchNorm(axis=1, eps=1e-05, momentum=0.9, fix_gamma=False, in_channels=64)\n",
       "    (2): Activation(relu)\n",
       "    (3): MaxPool2D(size=(3, 3), stride=(2, 2), padding=(1, 1), ceil_mode=False)\n",
       "    (4): HybridSequential(\n",
       "      (0): BottleneckV1(\n",
       "        (body): HybridSequential(\n",
       "          (0): Conv2D(64 -> 64, kernel_size=(1, 1), stride=(1, 1))\n",
       "          (1): BatchNorm(axis=1, eps=1e-05, momentum=0.9, fix_gamma=False, in_channels=64)\n",
       "          (2): Activation(relu)\n",
       "          (3): Conv2D(64 -> 64, kernel_size=(3, 3), stride=(1, 1), padding=(1, 1), bias=False)\n",
       "          (4): BatchNorm(axis=1, eps=1e-05, momentum=0.9, fix_gamma=False, in_channels=64)\n",
       "          (5): Activation(relu)\n",
       "          (6): Conv2D(64 -> 256, kernel_size=(1, 1), stride=(1, 1))\n",
       "          (7): BatchNorm(axis=1, eps=1e-05, momentum=0.9, fix_gamma=False, in_channels=256)\n",
       "        )\n",
       "        (downsample): HybridSequential(\n",
       "          (0): Conv2D(64 -> 256, kernel_size=(1, 1), stride=(1, 1), bias=False)\n",
       "          (1): BatchNorm(axis=1, eps=1e-05, momentum=0.9, fix_gamma=False, in_channels=256)\n",
       "        )\n",
       "      )\n",
       "      (1): BottleneckV1(\n",
       "        (body): HybridSequential(\n",
       "          (0): Conv2D(256 -> 64, kernel_size=(1, 1), stride=(1, 1))\n",
       "          (1): BatchNorm(axis=1, eps=1e-05, momentum=0.9, fix_gamma=False, in_channels=64)\n",
       "          (2): Activation(relu)\n",
       "          (3): Conv2D(64 -> 64, kernel_size=(3, 3), stride=(1, 1), padding=(1, 1), bias=False)\n",
       "          (4): BatchNorm(axis=1, eps=1e-05, momentum=0.9, fix_gamma=False, in_channels=64)\n",
       "          (5): Activation(relu)\n",
       "          (6): Conv2D(64 -> 256, kernel_size=(1, 1), stride=(1, 1))\n",
       "          (7): BatchNorm(axis=1, eps=1e-05, momentum=0.9, fix_gamma=False, in_channels=256)\n",
       "        )\n",
       "      )\n",
       "      (2): BottleneckV1(\n",
       "        (body): HybridSequential(\n",
       "          (0): Conv2D(256 -> 64, kernel_size=(1, 1), stride=(1, 1))\n",
       "          (1): BatchNorm(axis=1, eps=1e-05, momentum=0.9, fix_gamma=False, in_channels=64)\n",
       "          (2): Activation(relu)\n",
       "          (3): Conv2D(64 -> 64, kernel_size=(3, 3), stride=(1, 1), padding=(1, 1), bias=False)\n",
       "          (4): BatchNorm(axis=1, eps=1e-05, momentum=0.9, fix_gamma=False, in_channels=64)\n",
       "          (5): Activation(relu)\n",
       "          (6): Conv2D(64 -> 256, kernel_size=(1, 1), stride=(1, 1))\n",
       "          (7): BatchNorm(axis=1, eps=1e-05, momentum=0.9, fix_gamma=False, in_channels=256)\n",
       "        )\n",
       "      )\n",
       "    )\n",
       "    (5): HybridSequential(\n",
       "      (0): BottleneckV1(\n",
       "        (body): HybridSequential(\n",
       "          (0): Conv2D(256 -> 128, kernel_size=(1, 1), stride=(1, 1))\n",
       "          (1): BatchNorm(axis=1, eps=1e-05, momentum=0.9, fix_gamma=False, in_channels=128)\n",
       "          (2): Activation(relu)\n",
       "          (3): Conv2D(128 -> 128, kernel_size=(3, 3), stride=(2, 2), padding=(1, 1), bias=False)\n",
       "          (4): BatchNorm(axis=1, eps=1e-05, momentum=0.9, fix_gamma=False, in_channels=128)\n",
       "          (5): Activation(relu)\n",
       "          (6): Conv2D(128 -> 512, kernel_size=(1, 1), stride=(1, 1))\n",
       "          (7): BatchNorm(axis=1, eps=1e-05, momentum=0.9, fix_gamma=False, in_channels=512)\n",
       "        )\n",
       "        (downsample): HybridSequential(\n",
       "          (0): Conv2D(256 -> 512, kernel_size=(1, 1), stride=(2, 2), bias=False)\n",
       "          (1): BatchNorm(axis=1, eps=1e-05, momentum=0.9, fix_gamma=False, in_channels=512)\n",
       "        )\n",
       "      )\n",
       "      (1): BottleneckV1(\n",
       "        (body): HybridSequential(\n",
       "          (0): Conv2D(512 -> 128, kernel_size=(1, 1), stride=(1, 1))\n",
       "          (1): BatchNorm(axis=1, eps=1e-05, momentum=0.9, fix_gamma=False, in_channels=128)\n",
       "          (2): Activation(relu)\n",
       "          (3): Conv2D(128 -> 128, kernel_size=(3, 3), stride=(1, 1), padding=(1, 1), bias=False)\n",
       "          (4): BatchNorm(axis=1, eps=1e-05, momentum=0.9, fix_gamma=False, in_channels=128)\n",
       "          (5): Activation(relu)\n",
       "          (6): Conv2D(128 -> 512, kernel_size=(1, 1), stride=(1, 1))\n",
       "          (7): BatchNorm(axis=1, eps=1e-05, momentum=0.9, fix_gamma=False, in_channels=512)\n",
       "        )\n",
       "      )\n",
       "      (2): BottleneckV1(\n",
       "        (body): HybridSequential(\n",
       "          (0): Conv2D(512 -> 128, kernel_size=(1, 1), stride=(1, 1))\n",
       "          (1): BatchNorm(axis=1, eps=1e-05, momentum=0.9, fix_gamma=False, in_channels=128)\n",
       "          (2): Activation(relu)\n",
       "          (3): Conv2D(128 -> 128, kernel_size=(3, 3), stride=(1, 1), padding=(1, 1), bias=False)\n",
       "          (4): BatchNorm(axis=1, eps=1e-05, momentum=0.9, fix_gamma=False, in_channels=128)\n",
       "          (5): Activation(relu)\n",
       "          (6): Conv2D(128 -> 512, kernel_size=(1, 1), stride=(1, 1))\n",
       "          (7): BatchNorm(axis=1, eps=1e-05, momentum=0.9, fix_gamma=False, in_channels=512)\n",
       "        )\n",
       "      )\n",
       "      (3): BottleneckV1(\n",
       "        (body): HybridSequential(\n",
       "          (0): Conv2D(512 -> 128, kernel_size=(1, 1), stride=(1, 1))\n",
       "          (1): BatchNorm(axis=1, eps=1e-05, momentum=0.9, fix_gamma=False, in_channels=128)\n",
       "          (2): Activation(relu)\n",
       "          (3): Conv2D(128 -> 128, kernel_size=(3, 3), stride=(1, 1), padding=(1, 1), bias=False)\n",
       "          (4): BatchNorm(axis=1, eps=1e-05, momentum=0.9, fix_gamma=False, in_channels=128)\n",
       "          (5): Activation(relu)\n",
       "          (6): Conv2D(128 -> 512, kernel_size=(1, 1), stride=(1, 1))\n",
       "          (7): BatchNorm(axis=1, eps=1e-05, momentum=0.9, fix_gamma=False, in_channels=512)\n",
       "        )\n",
       "      )\n",
       "    )\n",
       "    (6): HybridSequential(\n",
       "      (0): BottleneckV1(\n",
       "        (body): HybridSequential(\n",
       "          (0): Conv2D(512 -> 256, kernel_size=(1, 1), stride=(1, 1))\n",
       "          (1): BatchNorm(axis=1, eps=1e-05, momentum=0.9, fix_gamma=False, in_channels=256)\n",
       "          (2): Activation(relu)\n",
       "          (3): Conv2D(256 -> 256, kernel_size=(3, 3), stride=(2, 2), padding=(1, 1), bias=False)\n",
       "          (4): BatchNorm(axis=1, eps=1e-05, momentum=0.9, fix_gamma=False, in_channels=256)\n",
       "          (5): Activation(relu)\n",
       "          (6): Conv2D(256 -> 1024, kernel_size=(1, 1), stride=(1, 1))\n",
       "          (7): BatchNorm(axis=1, eps=1e-05, momentum=0.9, fix_gamma=False, in_channels=1024)\n",
       "        )\n",
       "        (downsample): HybridSequential(\n",
       "          (0): Conv2D(512 -> 1024, kernel_size=(1, 1), stride=(2, 2), bias=False)\n",
       "          (1): BatchNorm(axis=1, eps=1e-05, momentum=0.9, fix_gamma=False, in_channels=1024)\n",
       "        )\n",
       "      )\n",
       "      (1): BottleneckV1(\n",
       "        (body): HybridSequential(\n",
       "          (0): Conv2D(1024 -> 256, kernel_size=(1, 1), stride=(1, 1))\n",
       "          (1): BatchNorm(axis=1, eps=1e-05, momentum=0.9, fix_gamma=False, in_channels=256)\n",
       "          (2): Activation(relu)\n",
       "          (3): Conv2D(256 -> 256, kernel_size=(3, 3), stride=(1, 1), padding=(1, 1), bias=False)\n",
       "          (4): BatchNorm(axis=1, eps=1e-05, momentum=0.9, fix_gamma=False, in_channels=256)\n",
       "          (5): Activation(relu)\n",
       "          (6): Conv2D(256 -> 1024, kernel_size=(1, 1), stride=(1, 1))\n",
       "          (7): BatchNorm(axis=1, eps=1e-05, momentum=0.9, fix_gamma=False, in_channels=1024)\n",
       "        )\n",
       "      )\n",
       "      (2): BottleneckV1(\n",
       "        (body): HybridSequential(\n",
       "          (0): Conv2D(1024 -> 256, kernel_size=(1, 1), stride=(1, 1))\n",
       "          (1): BatchNorm(axis=1, eps=1e-05, momentum=0.9, fix_gamma=False, in_channels=256)\n",
       "          (2): Activation(relu)\n",
       "          (3): Conv2D(256 -> 256, kernel_size=(3, 3), stride=(1, 1), padding=(1, 1), bias=False)\n",
       "          (4): BatchNorm(axis=1, eps=1e-05, momentum=0.9, fix_gamma=False, in_channels=256)\n",
       "          (5): Activation(relu)\n",
       "          (6): Conv2D(256 -> 1024, kernel_size=(1, 1), stride=(1, 1))\n",
       "          (7): BatchNorm(axis=1, eps=1e-05, momentum=0.9, fix_gamma=False, in_channels=1024)\n",
       "        )\n",
       "      )\n",
       "      (3): BottleneckV1(\n",
       "        (body): HybridSequential(\n",
       "          (0): Conv2D(1024 -> 256, kernel_size=(1, 1), stride=(1, 1))\n",
       "          (1): BatchNorm(axis=1, eps=1e-05, momentum=0.9, fix_gamma=False, in_channels=256)\n",
       "          (2): Activation(relu)\n",
       "          (3): Conv2D(256 -> 256, kernel_size=(3, 3), stride=(1, 1), padding=(1, 1), bias=False)\n",
       "          (4): BatchNorm(axis=1, eps=1e-05, momentum=0.9, fix_gamma=False, in_channels=256)\n",
       "          (5): Activation(relu)\n",
       "          (6): Conv2D(256 -> 1024, kernel_size=(1, 1), stride=(1, 1))\n",
       "          (7): BatchNorm(axis=1, eps=1e-05, momentum=0.9, fix_gamma=False, in_channels=1024)\n",
       "        )\n",
       "      )\n",
       "      (4): BottleneckV1(\n",
       "        (body): HybridSequential(\n",
       "          (0): Conv2D(1024 -> 256, kernel_size=(1, 1), stride=(1, 1))\n",
       "          (1): BatchNorm(axis=1, eps=1e-05, momentum=0.9, fix_gamma=False, in_channels=256)\n",
       "          (2): Activation(relu)\n",
       "          (3): Conv2D(256 -> 256, kernel_size=(3, 3), stride=(1, 1), padding=(1, 1), bias=False)\n",
       "          (4): BatchNorm(axis=1, eps=1e-05, momentum=0.9, fix_gamma=False, in_channels=256)\n",
       "          (5): Activation(relu)\n",
       "          (6): Conv2D(256 -> 1024, kernel_size=(1, 1), stride=(1, 1))\n",
       "          (7): BatchNorm(axis=1, eps=1e-05, momentum=0.9, fix_gamma=False, in_channels=1024)\n",
       "        )\n",
       "      )\n",
       "      (5): BottleneckV1(\n",
       "        (body): HybridSequential(\n",
       "          (0): Conv2D(1024 -> 256, kernel_size=(1, 1), stride=(1, 1))\n",
       "          (1): BatchNorm(axis=1, eps=1e-05, momentum=0.9, fix_gamma=False, in_channels=256)\n",
       "          (2): Activation(relu)\n",
       "          (3): Conv2D(256 -> 256, kernel_size=(3, 3), stride=(1, 1), padding=(1, 1), bias=False)\n",
       "          (4): BatchNorm(axis=1, eps=1e-05, momentum=0.9, fix_gamma=False, in_channels=256)\n",
       "          (5): Activation(relu)\n",
       "          (6): Conv2D(256 -> 1024, kernel_size=(1, 1), stride=(1, 1))\n",
       "          (7): BatchNorm(axis=1, eps=1e-05, momentum=0.9, fix_gamma=False, in_channels=1024)\n",
       "        )\n",
       "      )\n",
       "    )\n",
       "    (7): HybridSequential(\n",
       "      (0): BottleneckV1(\n",
       "        (body): HybridSequential(\n",
       "          (0): Conv2D(1024 -> 512, kernel_size=(1, 1), stride=(1, 1))\n",
       "          (1): BatchNorm(axis=1, eps=1e-05, momentum=0.9, fix_gamma=False, in_channels=512)\n",
       "          (2): Activation(relu)\n",
       "          (3): Conv2D(512 -> 512, kernel_size=(3, 3), stride=(2, 2), padding=(1, 1), bias=False)\n",
       "          (4): BatchNorm(axis=1, eps=1e-05, momentum=0.9, fix_gamma=False, in_channels=512)\n",
       "          (5): Activation(relu)\n",
       "          (6): Conv2D(512 -> 2048, kernel_size=(1, 1), stride=(1, 1))\n",
       "          (7): BatchNorm(axis=1, eps=1e-05, momentum=0.9, fix_gamma=False, in_channels=2048)\n",
       "        )\n",
       "        (downsample): HybridSequential(\n",
       "          (0): Conv2D(1024 -> 2048, kernel_size=(1, 1), stride=(2, 2), bias=False)\n",
       "          (1): BatchNorm(axis=1, eps=1e-05, momentum=0.9, fix_gamma=False, in_channels=2048)\n",
       "        )\n",
       "      )\n",
       "      (1): BottleneckV1(\n",
       "        (body): HybridSequential(\n",
       "          (0): Conv2D(2048 -> 512, kernel_size=(1, 1), stride=(1, 1))\n",
       "          (1): BatchNorm(axis=1, eps=1e-05, momentum=0.9, fix_gamma=False, in_channels=512)\n",
       "          (2): Activation(relu)\n",
       "          (3): Conv2D(512 -> 512, kernel_size=(3, 3), stride=(1, 1), padding=(1, 1), bias=False)\n",
       "          (4): BatchNorm(axis=1, eps=1e-05, momentum=0.9, fix_gamma=False, in_channels=512)\n",
       "          (5): Activation(relu)\n",
       "          (6): Conv2D(512 -> 2048, kernel_size=(1, 1), stride=(1, 1))\n",
       "          (7): BatchNorm(axis=1, eps=1e-05, momentum=0.9, fix_gamma=False, in_channels=2048)\n",
       "        )\n",
       "      )\n",
       "      (2): BottleneckV1(\n",
       "        (body): HybridSequential(\n",
       "          (0): Conv2D(2048 -> 512, kernel_size=(1, 1), stride=(1, 1))\n",
       "          (1): BatchNorm(axis=1, eps=1e-05, momentum=0.9, fix_gamma=False, in_channels=512)\n",
       "          (2): Activation(relu)\n",
       "          (3): Conv2D(512 -> 512, kernel_size=(3, 3), stride=(1, 1), padding=(1, 1), bias=False)\n",
       "          (4): BatchNorm(axis=1, eps=1e-05, momentum=0.9, fix_gamma=False, in_channels=512)\n",
       "          (5): Activation(relu)\n",
       "          (6): Conv2D(512 -> 2048, kernel_size=(1, 1), stride=(1, 1))\n",
       "          (7): BatchNorm(axis=1, eps=1e-05, momentum=0.9, fix_gamma=False, in_channels=2048)\n",
       "        )\n",
       "      )\n",
       "    )\n",
       "    (8): GlobalAvgPool2D(size=(1, 1), stride=(1, 1), padding=(0, 0), ceil_mode=True)\n",
       "  )\n",
       "  (output): Dense(2048 -> 1000, linear)\n",
       ")"
      ]
     },
     "execution_count": 189,
     "metadata": {},
     "output_type": "execute_result"
    }
   ],
   "source": [
    "resnet50"
   ]
  },
  {
   "cell_type": "code",
   "execution_count": 34,
   "metadata": {},
   "outputs": [],
   "source": [
    "df=pd.read_csv('data/train/Annotations/train.csv')\n",
    "df['image_id']='data/train/'+df['image_id']"
   ]
  },
  {
   "cell_type": "code",
   "execution_count": 38,
   "metadata": {},
   "outputs": [],
   "source": [
    "%matplotlib inline\n",
    "import skimage.io\n",
    "import matplotlib.pyplot as plt"
   ]
  },
  {
   "cell_type": "code",
   "execution_count": 156,
   "metadata": {},
   "outputs": [
    {
     "name": "stdout",
     "output_type": "stream",
     "text": [
      "(512, 512, 3) trousers\n"
     ]
    },
    {
     "data": {
      "image/png": "[encoded data removed]",
      "text/plain": [
       "<Figure size 432x288 with 1 Axes>"
      ]
     },
     "metadata": {},
     "output_type": "display_data"
    }
   ],
   "source": [
    "col = df.sample().iloc[0]\n",
    "image = skimage.io.imread(col['image_id'])\n",
    "plt.imshow(image)\n",
    "print(image.shape, col['image_category'])"
   ]
  },
  {
   "cell_type": "code",
   "execution_count": 161,
   "metadata": {},
   "outputs": [
    {
     "data": {
      "text/plain": [
       "Index(['image_id', 'image_category', 'neckline_left', 'neckline_right',\n",
       "       'center_front', 'shoulder_left', 'shoulder_right', 'armpit_left',\n",
       "       'armpit_right', 'waistline_left', 'waistline_right', 'cuff_left_in',\n",
       "       'cuff_left_out', 'cuff_right_in', 'cuff_right_out', 'top_hem_left',\n",
       "       'top_hem_right', 'waistband_left', 'waistband_right', 'hemline_left',\n",
       "       'hemline_right', 'crotch', 'bottom_left_in', 'bottom_left_out',\n",
       "       'bottom_right_in', 'bottom_right_out'],\n",
       "      dtype='object')"
      ]
     },
     "execution_count": 161,
     "metadata": {},
     "output_type": "execute_result"
    }
   ],
   "source": [
    "df.columns"
   ]
  },
  {
   "cell_type": "code",
   "execution_count": 157,
   "metadata": {},
   "outputs": [
    {
     "name": "stdout",
     "output_type": "stream",
     "text": [
      "jean, blue jean, denim 5.298012\n",
      "gown 4.544918\n",
      "pajama, pyjama, pj's, jammies 4.4197927\n",
      "miniskirt, mini 3.8918827\n",
      "jersey, T-shirt, tee shirt 3.8484972\n"
     ]
    }
   ],
   "source": [
    "pred= pred_img(nd.array(image).transpose([2, 0, 1]))\n",
    "pred = -pred[0].asnumpy()\n",
    "for i  in sorted(pred.argpartition(5)[:5], key=lambda x : pred[x]):\n",
    "    print(imagenet_class.name[i], -pred[i])"
   ]
  },
  {
   "cell_type": "code",
   "execution_count": 173,
   "metadata": {},
   "outputs": [],
   "source": [
    "from mxnet.gluon import nn"
   ]
  },
  {
   "cell_type": "code",
   "execution_count": 174,
   "metadata": {},
   "outputs": [],
   "source": [
    "net=nn.HybridSequential()"
   ]
  },
  {
   "cell_type": "code",
   "execution_count": 176,
   "metadata": {},
   "outputs": [],
   "source": [
    "net.add(resnet18.features[4] )"
   ]
  },
  {
   "cell_type": "code",
   "execution_count": 177,
   "metadata": {},
   "outputs": [],
   "source": [
    "net.add(resnet18.features[5] )"
   ]
  },
  {
   "cell_type": "code",
   "execution_count": 178,
   "metadata": {},
   "outputs": [
    {
     "data": {
      "text/plain": [
       "HybridSequential(\n",
       "  (0): HybridSequential(\n",
       "    (0): BasicBlockV1(\n",
       "      (body): HybridSequential(\n",
       "        (0): Conv2D(64 -> 64, kernel_size=(3, 3), stride=(1, 1), padding=(1, 1), bias=False)\n",
       "        (1): BatchNorm(axis=1, eps=1e-05, momentum=0.9, fix_gamma=False, in_channels=64)\n",
       "        (2): Activation(relu)\n",
       "        (3): Conv2D(64 -> 64, kernel_size=(3, 3), stride=(1, 1), padding=(1, 1), bias=False)\n",
       "        (4): BatchNorm(axis=1, eps=1e-05, momentum=0.9, fix_gamma=False, in_channels=64)\n",
       "      )\n",
       "    )\n",
       "    (1): BasicBlockV1(\n",
       "      (body): HybridSequential(\n",
       "        (0): Conv2D(64 -> 64, kernel_size=(3, 3), stride=(1, 1), padding=(1, 1), bias=False)\n",
       "        (1): BatchNorm(axis=1, eps=1e-05, momentum=0.9, fix_gamma=False, in_channels=64)\n",
       "        (2): Activation(relu)\n",
       "        (3): Conv2D(64 -> 64, kernel_size=(3, 3), stride=(1, 1), padding=(1, 1), bias=False)\n",
       "        (4): BatchNorm(axis=1, eps=1e-05, momentum=0.9, fix_gamma=False, in_channels=64)\n",
       "      )\n",
       "    )\n",
       "  )\n",
       "  (1): HybridSequential(\n",
       "    (0): BasicBlockV1(\n",
       "      (body): HybridSequential(\n",
       "        (0): Conv2D(64 -> 128, kernel_size=(3, 3), stride=(2, 2), padding=(1, 1), bias=False)\n",
       "        (1): BatchNorm(axis=1, eps=1e-05, momentum=0.9, fix_gamma=False, in_channels=128)\n",
       "        (2): Activation(relu)\n",
       "        (3): Conv2D(128 -> 128, kernel_size=(3, 3), stride=(1, 1), padding=(1, 1), bias=False)\n",
       "        (4): BatchNorm(axis=1, eps=1e-05, momentum=0.9, fix_gamma=False, in_channels=128)\n",
       "      )\n",
       "      (downsample): HybridSequential(\n",
       "        (0): Conv2D(64 -> 128, kernel_size=(1, 1), stride=(2, 2), bias=False)\n",
       "        (1): BatchNorm(axis=1, eps=1e-05, momentum=0.9, fix_gamma=False, in_channels=128)\n",
       "      )\n",
       "    )\n",
       "    (1): BasicBlockV1(\n",
       "      (body): HybridSequential(\n",
       "        (0): Conv2D(128 -> 128, kernel_size=(3, 3), stride=(1, 1), padding=(1, 1), bias=False)\n",
       "        (1): BatchNorm(axis=1, eps=1e-05, momentum=0.9, fix_gamma=False, in_channels=128)\n",
       "        (2): Activation(relu)\n",
       "        (3): Conv2D(128 -> 128, kernel_size=(3, 3), stride=(1, 1), padding=(1, 1), bias=False)\n",
       "        (4): BatchNorm(axis=1, eps=1e-05, momentum=0.9, fix_gamma=False, in_channels=128)\n",
       "      )\n",
       "    )\n",
       "  )\n",
       ")"
      ]
     },
     "execution_count": 178,
     "metadata": {},
     "output_type": "execute_result"
    }
   ],
   "source": [
    "net"
   ]
  },
  {
   "cell_type": "code",
   "execution_count": 7,
   "metadata": {},
   "outputs": [
    {
     "data": {
      "text/plain": [
       "(1, 1000)"
      ]
     },
     "execution_count": 7,
     "metadata": {},
     "output_type": "execute_result"
    }
   ],
   "source": [
    "pred.shape"
   ]
  },
  {
   "cell_type": "code",
   "execution_count": 6,
   "metadata": {},
   "outputs": [],
   "source": [
    "data = sym.Variable(name='data')\n",
    "bottleneck = resnet18(data)"
   ]
  },
  {
   "cell_type": "code",
   "execution_count": 32,
   "metadata": {},
   "outputs": [],
   "source": [
    "import mxnet as mx"
   ]
  },
  {
   "cell_type": "code",
   "execution_count": 33,
   "metadata": {},
   "outputs": [],
   "source": [
    "from mxnet import nd"
   ]
  },
  {
   "cell_type": "code",
   "execution_count": 23,
   "metadata": {},
   "outputs": [],
   "source": [
    "data = nd.random_uniform(shape=(300, 300, 3))"
   ]
  },
  {
   "cell_type": "code",
   "execution_count": 128,
   "metadata": {},
   "outputs": [],
   "source": [
    "warp_matrix = nd.array([[[[1, 1, 1, 1],\n",
    "                          [1, 1, 1, 1],\n",
    "                          [1, 1, 1, 1],\n",
    "                          [1, 1, 1, 1]],\n",
    "                         [[0, 0, 0, 0],\n",
    "                          [0, 0, 0, 0],\n",
    "                          [0, 0, 0, 0],\n",
    "                          [0, 0, 0, 0]]]])"
   ]
  },
  {
   "cell_type": "code",
   "execution_count": 129,
   "metadata": {},
   "outputs": [],
   "source": [
    "grid=nd.GridGenerator(warp_matrix, 'warp', target_shape=(4,4))"
   ]
  },
  {
   "cell_type": "code",
   "execution_count": 138,
   "metadata": {},
   "outputs": [],
   "source": [
    "grid_affine=nd.GridGenerator(nd.array([[1, 0, 0, 0, 1, 2]]), 'affine', target_shape=(4,4))"
   ]
  },
  {
   "cell_type": "code",
   "execution_count": 133,
   "metadata": {},
   "outputs": [],
   "source": [
    "img=nd.array(np.arange(16).reshape(1, 1, 4, 4))"
   ]
  },
  {
   "cell_type": "code",
   "execution_count": 134,
   "metadata": {},
   "outputs": [
    {
     "data": {
      "text/plain": [
       "\n",
       "[[[[-0.3333333   0.33333337  1.          1.6666667 ]\n",
       "   [-0.3333333   0.33333337  1.          1.6666667 ]\n",
       "   [-0.3333333   0.33333337  1.          1.6666667 ]\n",
       "   [-0.3333333   0.33333337  1.          1.6666667 ]]\n",
       "\n",
       "  [[-1.         -1.         -1.         -1.        ]\n",
       "   [-0.3333333  -0.3333333  -0.3333333  -0.3333333 ]\n",
       "   [ 0.33333337  0.33333337  0.33333337  0.33333337]\n",
       "   [ 1.          1.          1.          1.        ]]]]\n",
       "<NDArray 1x2x4x4 @cpu(0)>"
      ]
     },
     "execution_count": 134,
     "metadata": {},
     "output_type": "execute_result"
    }
   ],
   "source": [
    "grid"
   ]
  },
  {
   "cell_type": "code",
   "execution_count": 135,
   "metadata": {},
   "outputs": [
    {
     "data": {
      "text/plain": [
       "\n",
       "[[[[ 0.  1.  2.  3.]\n",
       "   [ 4.  5.  6.  7.]\n",
       "   [ 8.  9. 10. 11.]\n",
       "   [12. 13. 14. 15.]]]]\n",
       "<NDArray 1x1x4x4 @cpu(0)>"
      ]
     },
     "execution_count": 135,
     "metadata": {},
     "output_type": "execute_result"
    }
   ],
   "source": [
    "img"
   ]
  },
  {
   "cell_type": "code",
   "execution_count": 139,
   "metadata": {},
   "outputs": [
    {
     "data": {
      "text/plain": [
       "\n",
       "[[[[12. 13. 14. 15.]\n",
       "   [ 0.  0.  0.  0.]\n",
       "   [ 0.  0.  0.  0.]\n",
       "   [ 0.  0.  0.  0.]]]]\n",
       "<NDArray 1x1x4x4 @cpu(0)>"
      ]
     },
     "execution_count": 139,
     "metadata": {},
     "output_type": "execute_result"
    }
   ],
   "source": [
    "nd.BilinearSampler(data=img, grid=grid_affine)"
   ]
  },
  {
   "cell_type": "code",
   "execution_count": 4,
   "metadata": {},
   "outputs": [],
   "source": [
    "from mxnet.gluon import nn"
   ]
  },
  {
   "cell_type": "code",
   "execution_count": 5,
   "metadata": {},
   "outputs": [],
   "source": [
    "from mxnet import nd"
   ]
  },
  {
   "cell_type": "code",
   "execution_count": 23,
   "metadata": {},
   "outputs": [],
   "source": [
    "arr = nd.random_uniform(shape=(1, 20, 5, 7))"
   ]
  },
  {
   "cell_type": "code",
   "execution_count": 24,
   "metadata": {},
   "outputs": [],
   "source": [
    "deconv = nn.Conv2DTranspose(2, 4, strides=2, padding=1)"
   ]
  },
  {
   "cell_type": "code",
   "execution_count": 25,
   "metadata": {},
   "outputs": [],
   "source": [
    "deconv.collect_params().initialize()"
   ]
  },
  {
   "cell_type": "code",
   "execution_count": 26,
   "metadata": {},
   "outputs": [
    {
     "data": {
      "text/plain": [
       "(1, 2, 10, 14)"
      ]
     },
     "execution_count": 26,
     "metadata": {},
     "output_type": "execute_result"
    }
   ],
   "source": [
    "deconv(arr).shape"
   ]
  },
  {
   "cell_type": "code",
   "execution_count": 37,
   "metadata": {},
   "outputs": [
    {
     "data": {
      "text/plain": [
       "17.0"
      ]
     },
     "execution_count": 37,
     "metadata": {},
     "output_type": "execute_result"
    }
   ],
   "source": [
    "255/15"
   ]
  },
  {
   "cell_type": "code",
   "execution_count": 35,
   "metadata": {},
   "outputs": [
    {
     "data": {
      "text/plain": [
       "248"
      ]
     },
     "execution_count": 35,
     "metadata": {},
     "output_type": "execute_result"
    }
   ],
   "source": [
    "n = 31\n",
    "(255//n) * n "
   ]
  },
  {
   "cell_type": "code",
   "execution_count": 90,
   "metadata": {},
   "outputs": [],
   "source": []
  },
  {
   "cell_type": "code",
   "execution_count": 34,
   "metadata": {},
   "outputs": [],
   "source": [
    "from mxnet.gluon import nn"
   ]
  },
  {
   "cell_type": "code",
   "execution_count": 133,
   "metadata": {},
   "outputs": [],
   "source": [
    "class Downsample(nn.HybridBlock):\n",
    "    def __init__(self, factor, **kwargs):\n",
    "        super().__init__(**kwargs)\n",
    "        self.factor = factor\n",
    "    @staticmethod\n",
    "    def _kernel2d(F, w):\n",
    "        kernel = ((w + 1) - F.abs((w - F.arange(0, w * 2 + 1)))) / (2 * w + 1)\n",
    "        kernel = F.broadcast_mul(F.expand_dims(kernel, axis=0), F.expand_dims(kernel, axis=1))\n",
    "        return F.reshape(kernel, (1, 1, w * 2 + 1, w * 2 + 1))\n",
    "    def hybrid_forward(self, F, img):\n",
    "        batch_img = F.expand_dims(F.reshape(img, [-3, -2]), axis=1)\n",
    "        factor=self.factor\n",
    "        kernel = self._kernel2d(F, factor-1)\n",
    "        nom = F.Convolution(data=F.ones_like(batch_img), \n",
    "                            weight=kernel, \n",
    "                            no_bias=True, \n",
    "                            kernel=(factor*2-1, factor*2-1),\n",
    "                            stride=(factor, factor),\n",
    "                            pad=(factor-1, factor-1), \n",
    "                            num_filter=1)\n",
    "        img = F.Convolution(data=batch_img, \n",
    "                            weight=kernel, \n",
    "                            no_bias=True, \n",
    "                            kernel=(factor*2-1, factor*2-1),\n",
    "                            stride=(factor, factor),\n",
    "                            pad=(factor-1, factor-1), \n",
    "                            num_filter=1)\n",
    "        return F.broadcast_div(F.reshape(img, [-4, -1, 2, -3, -2]), F.reshape(nom, [-4, -1, 2, -3, -2]))"
   ]
  },
  {
   "cell_type": "code",
   "execution_count": 36,
   "metadata": {},
   "outputs": [
    {
     "name": "stdout",
     "output_type": "stream",
     "text": [
      "Wall time: 17.9 s\n"
     ]
    }
   ],
   "source": [
    "%%time\n",
    "import sys\n",
    "sys.path.append('//msralab/projectdata/ehealth02/v-dinliu/Flow2D')\n",
    "from reader.chairs import binary_reader, trainval\n",
    "trainSet, validationSet = trainval.read('//msralab/ProjectData/ehealth02/v-dinliu/Flow2D/Data/FlyingChairs_release/FlyingChairs_train_val.txt')\n",
    "validationSize = len(validationSet)\n",
    "validationImg1, validationImg2, validationFlow = binary_reader.load(r\"\\\\msralab\\ProjectData\\ScratchSSD\\Users\\v-dinliu\\data\\FlyingChairsBlock\", \"val\")"
   ]
  },
  {
   "cell_type": "code",
   "execution_count": 37,
   "metadata": {},
   "outputs": [],
   "source": [
    "img1 = nd.transpose(nd.array(validationImg1[0:8]), (0, 3, 1, 2))"
   ]
  },
  {
   "cell_type": "code",
   "execution_count": 38,
   "metadata": {},
   "outputs": [],
   "source": [
    "flow = nd.transpose(nd.array(validationFlow[0:8]), (0, 3, 1, 2))"
   ]
  },
  {
   "cell_type": "code",
   "execution_count": 114,
   "metadata": {},
   "outputs": [],
   "source": [
    "flow = flow[:, :, :320, :448]"
   ]
  },
  {
   "cell_type": "code",
   "execution_count": 134,
   "metadata": {},
   "outputs": [],
   "source": [
    "net = Downsample(16)\n",
    "net.hybridize()"
   ]
  },
  {
   "cell_type": "code",
   "execution_count": 136,
   "metadata": {},
   "outputs": [],
   "source": [
    "x2 = net(flow).asnumpy()"
   ]
  },
  {
   "cell_type": "code",
   "execution_count": 151,
   "metadata": {},
   "outputs": [],
   "source": [
    "from mxnet import sym"
   ]
  },
  {
   "cell_type": "code",
   "execution_count": 8,
   "metadata": {},
   "outputs": [],
   "source": [
    "%matplotlib inline\n",
    "import matplotlib.pyplot as plt\n",
    "import numpy as np"
   ]
  },
  {
   "cell_type": "code",
   "execution_count": 54,
   "metadata": {},
   "outputs": [],
   "source": [
    "import skimage.color\n",
    "import math"
   ]
  },
  {
   "cell_type": "code",
   "execution_count": 59,
   "metadata": {},
   "outputs": [],
   "source": [
    "def flow2rgb(flow):\n",
    "    mag = np.linalg.norm(flow, axis=-1)\n",
    "    ang = np.arctan2(-flow[:, :, 1], -flow[:, :, 0])\n",
    "    hsv = np.stack([(ang / math.pi + 1) / 2,\n",
    "                     np.minimum(1, mag / 20),\n",
    "                     np.ones_like(ang)], axis=2)\n",
    "    return skimage.color.hsv2rgb(hsv)"
   ]
  },
  {
   "cell_type": "code",
   "execution_count": 137,
   "metadata": {},
   "outputs": [
    {
     "data": {
      "text/plain": [
       "<matplotlib.image.AxesImage at 0x1408f4bb198>"
      ]
     },
     "execution_count": 137,
     "metadata": {},
     "output_type": "execute_result"
    },
    {
     "data": {
      "image/png": "[encoded data removed]",
      "text/plain": [
       "<matplotlib.figure.Figure at 0x1408f574080>"
      ]
     },
     "metadata": {},
     "output_type": "display_data"
    }
   ],
   "source": [
    "plt.imshow(flow2rgb(validationFlow[5]))"
   ]
  },
  {
   "cell_type": "code",
   "execution_count": 138,
   "metadata": {},
   "outputs": [
    {
     "data": {
      "text/plain": [
       "<matplotlib.image.AxesImage at 0x1408e977518>"
      ]
     },
     "execution_count": 138,
     "metadata": {},
     "output_type": "execute_result"
    },
    {
     "data": {
      "image/png": "[encoded data removed]",
      "text/plain": [
       "<matplotlib.figure.Figure at 0x1408f5852b0>"
      ]
     },
     "metadata": {},
     "output_type": "display_data"
    }
   ],
   "source": [
    "x2_p = np.transpose(np.squeeze(x2)[5], (1, 2, 0))\n",
    "plt.imshow(flow2rgb(x2_p))"
   ]
  },
  {
   "cell_type": "code",
   "execution_count": 142,
   "metadata": {},
   "outputs": [],
   "source": [
    "import numpy as np"
   ]
  },
  {
   "cell_type": "code",
   "execution_count": 148,
   "metadata": {},
   "outputs": [
    {
     "data": {
      "text/plain": [
       "array([-0.01962574,  0.02327842, -0.07109006,  0.01957276,  0.07954885,\n",
       "       -0.00191852,  0.00179833, -0.08246318,  0.02846343, -0.00021504])"
      ]
     },
     "execution_count": 148,
     "metadata": {},
     "output_type": "execute_result"
    }
   ],
   "source": [
    "np.random.uniform(*(-0.1, 0.1), size=(10, ))"
   ]
  },
  {
   "cell_type": "code",
   "execution_count": 145,
   "metadata": {},
   "outputs": [
    {
     "data": {
      "text/plain": [
       "\u001b[1;31mSignature:\u001b[0m \u001b[0mnd\u001b[0m\u001b[1;33m.\u001b[0m\u001b[0mmean\u001b[0m\u001b[1;33m(\u001b[0m\u001b[0mdata\u001b[0m\u001b[1;33m=\u001b[0m\u001b[1;32mNone\u001b[0m\u001b[1;33m,\u001b[0m \u001b[0maxis\u001b[0m\u001b[1;33m=\u001b[0m\u001b[0m_Null\u001b[0m\u001b[1;33m,\u001b[0m \u001b[0mkeepdims\u001b[0m\u001b[1;33m=\u001b[0m\u001b[0m_Null\u001b[0m\u001b[1;33m,\u001b[0m \u001b[0mexclude\u001b[0m\u001b[1;33m=\u001b[0m\u001b[0m_Null\u001b[0m\u001b[1;33m,\u001b[0m \u001b[0mout\u001b[0m\u001b[1;33m=\u001b[0m\u001b[1;32mNone\u001b[0m\u001b[1;33m,\u001b[0m \u001b[0mname\u001b[0m\u001b[1;33m=\u001b[0m\u001b[1;32mNone\u001b[0m\u001b[1;33m,\u001b[0m \u001b[1;33m**\u001b[0m\u001b[0mkwargs\u001b[0m\u001b[1;33m)\u001b[0m\u001b[1;33m\u001b[0m\u001b[0m\n",
       "\u001b[1;31mDocstring:\u001b[0m\n",
       "Computes the mean of array elements over given axes.\n",
       "\n",
       "Defined in C:\\projects\\mxnet-distro-win\\mxnet-build\\src\\operator\\tensor\\broadcast_reduce_op_value.cc:L101\n",
       "\n",
       "Parameters\n",
       "----------\n",
       "data : NDArray\n",
       "    The input\n",
       "axis : Shape(tuple), optional, default=[]\n",
       "    The axis or axes along which to perform the reduction.\n",
       "\n",
       "      The default, `axis=()`, will compute over all elements into a\n",
       "      scalar array with shape `(1,)`.\n",
       "\n",
       "      If `axis` is int, a reduction is performed on a particular axis.\n",
       "\n",
       "      If `axis` is a tuple of ints, a reduction is performed on all the axes\n",
       "      specified in the tuple.\n",
       "\n",
       "      If `exclude` is true, reduction will be performed on the axes that are\n",
       "      NOT in axis instead.\n",
       "\n",
       "      Negative values means indexing from right to left.\n",
       "keepdims : boolean, optional, default=0\n",
       "    If this is set to `True`, the reduced axes are left in the result as dimension with size one.\n",
       "exclude : boolean, optional, default=0\n",
       "    Whether to perform reduction on axis that are NOT in axis instead.\n",
       "\n",
       "out : NDArray, optional\n",
       "    The output NDArray to hold the result.\n",
       "\n",
       "Returns\n",
       "-------\n",
       "out : NDArray or list of NDArrays\n",
       "    The output of this function.\n",
       "\u001b[1;31mFile:\u001b[0m      Dynamically generated function. No source code available.\n",
       "\u001b[1;31mType:\u001b[0m      function\n"
      ]
     },
     "metadata": {},
     "output_type": "display_data"
    }
   ],
   "source": [
    "nd.mean?"
   ]
  },
  {
   "cell_type": "code",
   "execution_count": null,
   "metadata": {},
   "outputs": [],
   "source": []
  }
 ],
 "metadata": {
  "kernelspec": {
   "display_name": "Python 3",
   "language": "python",
   "name": "python3"
  },
  "language_info": {
   "codemirror_mode": {
    "name": "ipython",
    "version": 3
   },
   "file_extension": ".py",
   "mimetype": "text/x-python",
   "name": "python",
   "nbconvert_exporter": "python",
   "pygments_lexer": "ipython3",
   "version": "3.6.4"
  }
 },
 "nbformat": 4,
 "nbformat_minor": 2
}
