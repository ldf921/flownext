{
 "cells": [
  {
   "cell_type": "code",
   "execution_count": 1,
   "metadata": {},
   "outputs": [],
   "source": [
    "%matplotlib inline\n",
    "import skimage.transform\n",
    "import math\n",
    "import matplotlib.pyplot as plt\n",
    "import skimage.data"
   ]
  },
  {
   "cell_type": "code",
   "execution_count": 2,
   "metadata": {},
   "outputs": [
    {
     "name": "stderr",
     "output_type": "stream",
     "text": [
      "C:\\Users\\v-dinliu\\AppData\\Local\\Continuum\\anaconda3\\envs\\mxnet\\lib\\site-packages\\h5py\\__init__.py:36: FutureWarning: Conversion of the second argument of issubdtype from `float` to `np.floating` is deprecated. In future, it will be treated as `np.float64 == np.dtype(float).type`.\n",
      "  from ._conv import register_converters as _register_converters\n"
     ]
    }
   ],
   "source": [
    "from mxnet import nd"
   ]
  },
  {
   "cell_type": "code",
   "execution_count": 3,
   "metadata": {},
   "outputs": [
    {
     "name": "stdout",
     "output_type": "stream",
     "text": [
      "Wall time: 18.5 s\n"
     ]
    }
   ],
   "source": [
    "%%time\n",
    "import sys\n",
    "sys.path.append('//msralab/projectdata/ehealth02/v-dinliu/Flow2D')\n",
    "from reader.chairs import binary_reader, trainval\n",
    "trainSet, validationSet = trainval.read('//msralab/ProjectData/ehealth02/v-dinliu/Flow2D/Data/FlyingChairs_release/FlyingChairs_train_val.txt')\n",
    "validationSize = len(validationSet)\n",
    "validationImg1, validationImg2, validationFlow = binary_reader.load(r\"\\\\msralab\\ProjectData\\ScratchSSD\\Users\\v-dinliu\\data\\FlyingChairsBlock\", \"val\")"
   ]
  },
  {
   "cell_type": "code",
   "execution_count": 4,
   "metadata": {},
   "outputs": [
    {
     "name": "stdout",
     "output_type": "stream",
     "text": [
      "Z:\\v-dinliu\\Flow2D\n"
     ]
    }
   ],
   "source": [
    "cd .."
   ]
  },
  {
   "cell_type": "code",
   "execution_count": 5,
   "metadata": {},
   "outputs": [],
   "source": [
    "import network"
   ]
  },
  {
   "cell_type": "code",
   "execution_count": 12,
   "metadata": {},
   "outputs": [],
   "source": [
    "from visualization import flow2rgb\n",
    "import numpy as np"
   ]
  },
  {
   "cell_type": "code",
   "execution_count": 19,
   "metadata": {},
   "outputs": [],
   "source": [
    "def call_mx_func(func, *args, **kwargs):\n",
    "    prep_func = kwargs.get('prep', lambda x : x)\n",
    "    nd_args = []\n",
    "    for arg in args:\n",
    "        if arg.ndim == 3:\n",
    "            arg = np.expand_dims(arg, 0)\n",
    "        nd_args.append(prep_func(nd.transpose(nd.array(arg), (0, 3, 1, 2))))\n",
    "    nd_rets = func(*nd_args)\n",
    "    if isinstance(nd_rets, nd.NDArray):\n",
    "        ret = nd.transpose(ret, (0, 2, 3, 1)).asnumpy()\n",
    "        if ret.shape[0] == 1:\n",
    "            ret = ret[0]\n",
    "        return ret\n",
    "    else:\n",
    "        rets = []\n",
    "        for ret in nd_rets: \n",
    "            ret = nd.transpose(ret, (0, 2, 3, 1)).asnumpy()\n",
    "            if ret.shape[0] == 1:\n",
    "                ret = ret[0]\n",
    "            rets.append(ret)\n",
    "        return rets"
   ]
  },
  {
   "cell_type": "code",
   "execution_count": 8,
   "metadata": {},
   "outputs": [],
   "source": [
    "import mxnet as mx\n",
    "import yaml"
   ]
  },
  {
   "cell_type": "code",
   "execution_count": 9,
   "metadata": {},
   "outputs": [],
   "source": [
    "with open('network/config/spynet.yaml') as fi:\n",
    "    cfg = yaml.load(fi)"
   ]
  },
  {
   "cell_type": "code",
   "execution_count": 10,
   "metadata": {},
   "outputs": [],
   "source": [
    "pipe = network.get_pipeline('hybridnet-coarse', config=cfg, ctx=[mx.cpu()])"
   ]
  },
  {
   "cell_type": "code",
   "execution_count": 11,
   "metadata": {},
   "outputs": [],
   "source": [
    "pipe.network.collect_params().load('weights/94fApr10-1831_400000.params', ctx=pipe.ctx)"
   ]
  },
  {
   "cell_type": "code",
   "execution_count": 29,
   "metadata": {},
   "outputs": [],
   "source": [
    "pipe.network.collect_params().initialize(force_reinit=True, ctx=pipe.ctx)"
   ]
  },
  {
   "cell_type": "code",
   "execution_count": 45,
   "metadata": {},
   "outputs": [],
   "source": [
    "for k, v in pipe.network.collect_params().items():\n",
    "    if k.endswith('weight'):\n",
    "        v.initialize(mx.initializer.Normal(sigma=0.01), force_reinit=True, ctx=mx.cpu())\n",
    "    else:\n",
    "        v.initialize(force_reinit=True, ctx=mx.cpu())"
   ]
  },
  {
   "cell_type": "code",
   "execution_count": 55,
   "metadata": {},
   "outputs": [
    {
     "data": {
      "text/plain": [
       "\n",
       "[0. 0.]\n",
       "<NDArray 2 @cpu(0)>"
      ]
     },
     "execution_count": 55,
     "metadata": {},
     "output_type": "execute_result"
    }
   ],
   "source": [
    "v.grad()"
   ]
  },
  {
   "cell_type": "code",
   "execution_count": 51,
   "metadata": {
    "scrolled": false
   },
   "outputs": [
    {
     "data": {
      "text/plain": [
       "<matplotlib.image.AxesImage at 0x20c0a884710>"
      ]
     },
     "execution_count": 51,
     "metadata": {},
     "output_type": "execute_result"
    },
    {
     "data": {
      "image/png": "[encoded data removed]",
      "text/plain": [
       "<Figure size 432x288 with 1 Axes>"
      ]
     },
     "metadata": {},
     "output_type": "display_data"
    }
   ],
   "source": [
    "i = 3\n",
    "flow, = call_mx_func(pipe.network, validationImg1[i] / 255.0, validationImg2[i] / 255.0, prep=pipe.preprocess)\n",
    "flow = flow * 32\n",
    "plt.imshow(flow2rgb(flow))"
   ]
  },
  {
   "cell_type": "code",
   "execution_count": null,
   "metadata": {},
   "outputs": [],
   "source": [
    "factor = 32"
   ]
  },
  {
   "cell_type": "code",
   "execution_count": null,
   "metadata": {
    "scrolled": false
   },
   "outputs": [],
   "source": [
    "img = validationFlow[14]\n",
    "plt.figure()\n",
    "plt.imshow(flow2rgb(img))\n",
    "plt.figure()\n",
    "ds_img = call_mx_func(network.flownet.Downsample(factor), img)\n",
    "upsamp = network.flownet.Upsample(2, factor)\n",
    "upsamp.collect_params().initialize()\n",
    "plt.imshow(flow2rgb(ds_img))\n",
    "plt.figure()\n",
    "rs_img = call_mx_func(upsamp, ds_img)\n",
    "plt.imshow(flow2rgb(rs_img))\n",
    "epe = np.mean(np.linalg.norm(img - rs_img, axis=-1))\n",
    "print(epe)"
   ]
  },
  {
   "cell_type": "code",
   "execution_count": null,
   "metadata": {},
   "outputs": [],
   "source": [
    "import numpy as np"
   ]
  },
  {
   "cell_type": "code",
   "execution_count": null,
   "metadata": {},
   "outputs": [],
   "source": []
  },
  {
   "cell_type": "code",
   "execution_count": null,
   "metadata": {},
   "outputs": [],
   "source": [
    "epes = []\n",
    "orig_epes = []\n",
    "for i in np.random.choice(range(len(validationFlow)), size=100, replace=False):\n",
    "    dsflow = call_mx_func(network.flownet.Downsample(factor), validationFlow[i])\n",
    "    epes.append(np.mean(np.linalg.norm(dsflow, axis=-1)))\n",
    "    orig_epes.append(np.mean(np.linalg.norm(validationFlow[i], axis=-1)))"
   ]
  },
  {
   "cell_type": "code",
   "execution_count": null,
   "metadata": {},
   "outputs": [],
   "source": [
    "print(np.mean(epes))\n",
    "print(np.mean(orig_epes))"
   ]
  },
  {
   "cell_type": "code",
   "execution_count": null,
   "metadata": {},
   "outputs": [],
   "source": []
  }
 ],
 "metadata": {
  "kernelspec": {
   "display_name": "Python 3",
   "language": "python",
   "name": "python3"
  },
  "language_info": {
   "codemirror_mode": {
    "name": "ipython",
    "version": 3
   },
   "file_extension": ".py",
   "mimetype": "text/x-python",
   "name": "python",
   "nbconvert_exporter": "python",
   "pygments_lexer": "ipython3",
   "version": "3.6.4"
  }
 },
 "nbformat": 4,
 "nbformat_minor": 2
}
